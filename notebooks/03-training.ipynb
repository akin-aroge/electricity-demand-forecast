{
 "cells": [
  {
   "cell_type": "code",
   "execution_count": 157,
   "metadata": {},
   "outputs": [
    {
     "name": "stdout",
     "output_type": "stream",
     "text": [
      "The autoreload extension is already loaded. To reload it, use:\n",
      "  %reload_ext autoreload\n"
     ]
    }
   ],
   "source": [
    "\"\"\"main script for modelling\"\"\"\n",
    "\n",
    "import logging\n",
    "import configparser\n",
    "import argparse\n",
    "import warnings\n",
    "from sklearn.pipeline import Pipeline\n",
    "from sklearn.model_selection import train_test_split\n",
    "\n",
    "from src import utils\n",
    "from src.modelling import transforms\n",
    "from src.modelling import training\n",
    "import numpy as np\n",
    "\n",
    "%load_ext autoreload\n",
    "%autoreload 2"
   ]
  },
  {
   "cell_type": "code",
   "execution_count": 158,
   "metadata": {},
   "outputs": [],
   "source": [
    "experiments = {}\n",
    "model_names = ['linear_model']\n",
    "n_tuning_trials = 10"
   ]
  },
  {
   "cell_type": "markdown",
   "metadata": {},
   "source": [
    "## Baseline"
   ]
  },
  {
   "cell_type": "code",
   "execution_count": 159,
   "metadata": {},
   "outputs": [
    {
     "name": "stderr",
     "output_type": "stream",
     "text": [
      "[I 2024-04-05 00:39:56,521] A new study created in memory with name: no-name-b2f27e26-0b5b-42f6-8c2e-dfd9aa8e18d2\n"
     ]
    },
    {
     "name": "stderr",
     "output_type": "stream",
     "text": [
      "[I 2024-04-05 00:39:57,114] Trial 0 finished with value: -0.34192576350435033 and parameters: {'alpha': 1.3510953025380992}. Best is trial 0 with value: -0.34192576350435033.\n"
     ]
    },
    {
     "name": "stdout",
     "output_type": "stream",
     "text": [
      "Trial 0, alpha: 1.3510953025380992,  mape: 0.34192576350435033\n"
     ]
    },
    {
     "name": "stderr",
     "output_type": "stream",
     "text": [
      "[I 2024-04-05 00:39:57,668] Trial 1 finished with value: -0.34110110862110116 and parameters: {'alpha': 2.811007492269272}. Best is trial 1 with value: -0.34110110862110116.\n"
     ]
    },
    {
     "name": "stdout",
     "output_type": "stream",
     "text": [
      "Trial 1, alpha: 2.811007492269272,  mape: 0.34110110862110116\n"
     ]
    },
    {
     "name": "stderr",
     "output_type": "stream",
     "text": [
      "[I 2024-04-05 00:39:58,173] Trial 2 finished with value: -0.34114783808051635 and parameters: {'alpha': 2.7273413515406424}. Best is trial 1 with value: -0.34110110862110116.\n"
     ]
    },
    {
     "name": "stdout",
     "output_type": "stream",
     "text": [
      "Trial 2, alpha: 2.7273413515406424,  mape: 0.34114783808051635\n"
     ]
    },
    {
     "name": "stderr",
     "output_type": "stream",
     "text": [
      "[I 2024-04-05 00:39:58,775] Trial 3 finished with value: -0.34255091469984367 and parameters: {'alpha': 0.27227853213460046}. Best is trial 1 with value: -0.34110110862110116.\n"
     ]
    },
    {
     "name": "stdout",
     "output_type": "stream",
     "text": [
      "Trial 3, alpha: 0.27227853213460046,  mape: 0.34255091469984367\n"
     ]
    },
    {
     "name": "stderr",
     "output_type": "stream",
     "text": [
      "[I 2024-04-05 00:39:59,292] Trial 4 finished with value: -0.3424666591668367 and parameters: {'alpha': 0.41603264660875805}. Best is trial 1 with value: -0.34110110862110116.\n"
     ]
    },
    {
     "name": "stdout",
     "output_type": "stream",
     "text": [
      "Trial 4, alpha: 0.41603264660875805,  mape: 0.3424666591668367\n"
     ]
    },
    {
     "name": "stderr",
     "output_type": "stream",
     "text": [
      "[I 2024-04-05 00:39:59,797] Trial 5 finished with value: -0.3421584687692121 and parameters: {'alpha': 0.9460099140627773}. Best is trial 1 with value: -0.34110110862110116.\n"
     ]
    },
    {
     "name": "stdout",
     "output_type": "stream",
     "text": [
      "Trial 5, alpha: 0.9460099140627773,  mape: 0.3421584687692121\n"
     ]
    },
    {
     "name": "stderr",
     "output_type": "stream",
     "text": [
      "[I 2024-04-05 00:40:00,189] Trial 6 finished with value: -0.34196069284562464 and parameters: {'alpha': 1.2900670563591607}. Best is trial 1 with value: -0.34110110862110116.\n"
     ]
    },
    {
     "name": "stdout",
     "output_type": "stream",
     "text": [
      "Trial 6, alpha: 1.2900670563591607,  mape: 0.34196069284562464\n"
     ]
    },
    {
     "name": "stderr",
     "output_type": "stream",
     "text": [
      "[I 2024-04-05 00:40:00,613] Trial 7 finished with value: -0.3420991272801152 and parameters: {'alpha': 1.0490366089276184}. Best is trial 1 with value: -0.34110110862110116.\n"
     ]
    },
    {
     "name": "stdout",
     "output_type": "stream",
     "text": [
      "Trial 7, alpha: 1.0490366089276184,  mape: 0.3420991272801152\n"
     ]
    },
    {
     "name": "stderr",
     "output_type": "stream",
     "text": [
      "[I 2024-04-05 00:40:01,312] Trial 8 finished with value: -0.34263321292122717 and parameters: {'alpha': 0.13231410075762332}. Best is trial 1 with value: -0.34110110862110116.\n"
     ]
    },
    {
     "name": "stdout",
     "output_type": "stream",
     "text": [
      "Trial 8, alpha: 0.13231410075762332,  mape: 0.34263321292122717\n"
     ]
    },
    {
     "name": "stderr",
     "output_type": "stream",
     "text": [
      "[I 2024-04-05 00:40:01,923] Trial 9 finished with value: -0.34258604012949095 and parameters: {'alpha': 0.21248971184309465}. Best is trial 1 with value: -0.34110110862110116.\n"
     ]
    },
    {
     "name": "stdout",
     "output_type": "stream",
     "text": [
      "Trial 9, alpha: 0.21248971184309465,  mape: 0.34258604012949095\n",
      "using tuned params\n",
      "best score is: -0.34110110862110116\n",
      "test score:0.18573981018695263\n",
      "test score:0.18573981018695263\n"
     ]
    }
   ],
   "source": [
    "experiment_name = 'baseline'\n",
    "proj_root = utils.get_proj_root()\n",
    "\n",
    "config = utils.get_config('config/config.ini')\n",
    "\n",
    "def make_pipeline():\n",
    "\n",
    "    categorical_column_names = ['hour', 'month']\n",
    "    columns_to_drop = ['date', 'hour', 'datetime']\n",
    "\n",
    "    temperature_column_names_path = proj_root.joinpath(config['modelling_paths']['temperature_columns'])\n",
    "    optimal_temperature_column_names_path = proj_root.joinpath(config['modelling_paths']['optimal_temperature_columns'])\n",
    "\n",
    "    \n",
    "\n",
    "    pipeline = Pipeline(\n",
    "            steps=[\n",
    "                (\"select_optimal_temperature_columns\", transforms.OptimalTemperatureSelector(\n",
    "                    temperature_column_names_path=temperature_column_names_path,\n",
    "                    optimal_temperature_column_names_path=optimal_temperature_column_names_path)  \n",
    "                ),\n",
    "                (\"create_weekend_col\", transforms.DerivedColumnTransformer(column_name='datetime', \n",
    "                                                            new_column_name='is_weekend', \n",
    "                                                            derive_func=transforms.is_weekend)\n",
    "                                                            ),\n",
    "                (\"create_month_col\", transforms.DerivedColumnTransformer(column_name='datetime', \n",
    "                                                            new_column_name='month', \n",
    "                                                            derive_func=transforms.get_month)\n",
    "                                                            ),\n",
    "                (\"create_holiday_col\",transforms.DerivedColumnTransformer(column_name='datetime', \n",
    "                                                            new_column_name='is_holiday', \n",
    "                                                            derive_func=transforms.is_holiday)\n",
    "                                                            ),\n",
    "                (\"create_hour_col\",transforms.DerivedColumnTransformer(column_name='datetime', \n",
    "                                                            new_column_name='hour', \n",
    "                                                            derive_func=transforms.get_hour)\n",
    "                                                            ),\n",
    "                (\"one_hot_categorical_column\", transforms.ColumsOneHotEncoder(categorical_column_names=categorical_column_names)),\n",
    "                ('drop_columns', transforms.ColumnsRemover(column_names=columns_to_drop)),\n",
    "\n",
    "\n",
    "            ]\n",
    "        )\n",
    "    return pipeline\n",
    "\n",
    "def main(model_name:str, pipeline, n_tuning_trials=1):\n",
    "    logger = logging.getLogger(__name__)\n",
    "    proj_root = utils.get_proj_root()\n",
    "\n",
    "    config = utils.get_config('config/config.ini')\n",
    "\n",
    "    model_output_dir = proj_root.joinpath(config[\"modelling_paths\"][\"model_output\"])\n",
    "    preprocessed_data_path = proj_root.joinpath(config['data_paths']['preprocessed_data'])\n",
    "\n",
    "    label_col_name = 'load'\n",
    "    model_params = config._sections[model_name]\n",
    "    model_class = training.get_model_class(model_name=model_name)\n",
    "    model = model_class(**model_params)\n",
    "\n",
    "\n",
    "\n",
    "    preprocessed_data = training.get_training_data(file_path=preprocessed_data_path)\n",
    "    training_data, testing_data = train_test_split(preprocessed_data, test_size=0.3, shuffle=False)\n",
    "\n",
    "\n",
    "\n",
    "    model_output_path = model_output_dir.joinpath(model_name + \".pkl\")\n",
    "    trainer = training.ModelTrainer(\n",
    "        model_class=model,\n",
    "        transform_pipeline=pipeline,\n",
    "        training_data=training_data,\n",
    "        testing_data=testing_data,\n",
    "        label_col_name=label_col_name,\n",
    "        model_output_path=model_output_path\n",
    "    )\n",
    "\n",
    "    logger.info(\"==============tuning started=============\")\n",
    "    trainer.tune_model(n_trials=n_tuning_trials)\n",
    "    # logger.info('tuning completed')\n",
    "    logger.info(\"==============training started====================\")\n",
    "    model = trainer.train_model(save_model=True)\n",
    "    logger.info(\"==========training completed===============\")\n",
    "    logger.info(\"==========evaluation===============\")\n",
    "    score = trainer.evaluate_model()\n",
    "    print(f\"test score:{score}\")\n",
    "    logger.info(f\"test score:{score}\")\n",
    "    score = trainer.inf_model()\n",
    "    print(f\"test score:{score}\")\n",
    "    logger.info(f\"inf score:{score}\")\n",
    "    logger.info(\"==========evaluation completed===============\")\n",
    "\n",
    "    return model, score\n",
    "\n",
    "model_results = {}\n",
    "\n",
    "for model_name in model_names:\n",
    "\n",
    "    pipeline = make_pipeline()\n",
    "    model, score = main(model_name=model_name, pipeline=pipeline, n_tuning_trials=n_tuning_trials)\n",
    "    model_results[model_name] = model, score\n",
    "\n",
    "experiments[experiment_name] = model_results\n"
   ]
  },
  {
   "cell_type": "markdown",
   "metadata": {},
   "source": [
    "## Add trigonometric features"
   ]
  },
  {
   "cell_type": "code",
   "execution_count": 160,
   "metadata": {},
   "outputs": [
    {
     "name": "stderr",
     "output_type": "stream",
     "text": [
      "[I 2024-04-05 00:40:02,330] A new study created in memory with name: no-name-8a632c90-ef3b-4bf6-aee9-013f5408a59c\n",
      "[I 2024-04-05 00:40:02,797] Trial 0 finished with value: -0.2995700081656107 and parameters: {'alpha': 1.3950281919995555}. Best is trial 0 with value: -0.2995700081656107.\n"
     ]
    },
    {
     "name": "stdout",
     "output_type": "stream",
     "text": [
      "Trial 0, alpha: 1.3950281919995555,  mape: 0.2995700081656107\n"
     ]
    },
    {
     "name": "stderr",
     "output_type": "stream",
     "text": [
      "[I 2024-04-05 00:40:03,836] Trial 1 finished with value: -0.2995760991941463 and parameters: {'alpha': 1.87007551629873}. Best is trial 0 with value: -0.2995700081656107.\n"
     ]
    },
    {
     "name": "stdout",
     "output_type": "stream",
     "text": [
      "Trial 1, alpha: 1.87007551629873,  mape: 0.2995760991941463\n"
     ]
    },
    {
     "name": "stderr",
     "output_type": "stream",
     "text": [
      "[I 2024-04-05 00:40:04,501] Trial 2 finished with value: -0.2995746857420679 and parameters: {'alpha': 1.7617980205111865}. Best is trial 0 with value: -0.2995700081656107.\n"
     ]
    },
    {
     "name": "stdout",
     "output_type": "stream",
     "text": [
      "Trial 2, alpha: 1.7617980205111865,  mape: 0.2995746857420679\n"
     ]
    },
    {
     "name": "stderr",
     "output_type": "stream",
     "text": [
      "[I 2024-04-05 00:40:04,987] Trial 3 finished with value: -0.29957298163915336 and parameters: {'alpha': 1.6304377860260493}. Best is trial 0 with value: -0.2995700081656107.\n"
     ]
    },
    {
     "name": "stdout",
     "output_type": "stream",
     "text": [
      "Trial 3, alpha: 1.6304377860260493,  mape: 0.29957298163915336\n"
     ]
    },
    {
     "name": "stderr",
     "output_type": "stream",
     "text": [
      "[I 2024-04-05 00:40:05,462] Trial 4 finished with value: -0.2995785754508529 and parameters: {'alpha': 2.05749606332286}. Best is trial 0 with value: -0.2995700081656107.\n"
     ]
    },
    {
     "name": "stdout",
     "output_type": "stream",
     "text": [
      "Trial 4, alpha: 2.05749606332286,  mape: 0.2995785754508529\n"
     ]
    },
    {
     "name": "stderr",
     "output_type": "stream",
     "text": [
      "[I 2024-04-05 00:40:05,915] Trial 5 finished with value: -0.2995943748949634 and parameters: {'alpha': 3.182274826390545}. Best is trial 0 with value: -0.2995700081656107.\n"
     ]
    },
    {
     "name": "stdout",
     "output_type": "stream",
     "text": [
      "Trial 5, alpha: 3.182274826390545,  mape: 0.2995943748949634\n"
     ]
    },
    {
     "name": "stderr",
     "output_type": "stream",
     "text": [
      "[I 2024-04-05 00:40:06,399] Trial 6 finished with value: -0.29957387953205455 and parameters: {'alpha': 1.6998167117800047}. Best is trial 0 with value: -0.2995700081656107.\n"
     ]
    },
    {
     "name": "stdout",
     "output_type": "stream",
     "text": [
      "Trial 6, alpha: 1.6998167117800047,  mape: 0.29957387953205455\n"
     ]
    },
    {
     "name": "stderr",
     "output_type": "stream",
     "text": [
      "[I 2024-04-05 00:40:06,908] Trial 7 finished with value: -0.29955928964144757 and parameters: {'alpha': 0.4267643944714526}. Best is trial 7 with value: -0.29955928964144757.\n"
     ]
    },
    {
     "name": "stdout",
     "output_type": "stream",
     "text": [
      "Trial 7, alpha: 0.4267643944714526,  mape: 0.29955928964144757\n"
     ]
    },
    {
     "name": "stderr",
     "output_type": "stream",
     "text": [
      "[I 2024-04-05 00:40:07,346] Trial 8 finished with value: -0.29955835992571345 and parameters: {'alpha': 0.32906564010654027}. Best is trial 8 with value: -0.29955835992571345.\n"
     ]
    },
    {
     "name": "stdout",
     "output_type": "stream",
     "text": [
      "Trial 8, alpha: 0.32906564010654027,  mape: 0.29955835992571345\n"
     ]
    },
    {
     "name": "stderr",
     "output_type": "stream",
     "text": [
      "[I 2024-04-05 00:40:07,867] Trial 9 finished with value: -0.299561284833252 and parameters: {'alpha': 0.6276801825483311}. Best is trial 8 with value: -0.29955835992571345.\n"
     ]
    },
    {
     "name": "stdout",
     "output_type": "stream",
     "text": [
      "Trial 9, alpha: 0.6276801825483311,  mape: 0.299561284833252\n",
      "using tuned params\n",
      "best score is: -0.29955835992571345\n",
      "test score:0.18595037755715266\n",
      "test score:0.18595037755715266\n"
     ]
    }
   ],
   "source": [
    "\n",
    "experiment_name = 'cyclical_features'\n",
    "def make_pipeline():\n",
    "\n",
    "    categorical_column_names = ['hour', 'month']\n",
    "    columns_to_drop = ['date', 'hour', 'datetime']\n",
    "\n",
    "    temperature_column_names_path = proj_root.joinpath(config['modelling_paths']['temperature_columns'])\n",
    "    optimal_temperature_column_names_path = proj_root.joinpath(config['modelling_paths']['optimal_temperature_columns'])\n",
    "\n",
    "    \n",
    "\n",
    "    pipeline = Pipeline(\n",
    "            steps=[\n",
    "                (\"select_optimal_temperature_columns\", transforms.OptimalTemperatureSelector(\n",
    "                    temperature_column_names_path=temperature_column_names_path,\n",
    "                    optimal_temperature_column_names_path=optimal_temperature_column_names_path)  \n",
    "                ),\n",
    "                (\"create_weekend_col\", transforms.DerivedColumnTransformer(column_name='datetime', \n",
    "                                                            new_column_name='is_weekend', \n",
    "                                                            derive_func=transforms.is_weekend)\n",
    "                                                            ),\n",
    "                (\"create_month_col\", transforms.DerivedColumnTransformer(column_name='datetime', \n",
    "                                                            new_column_name='month', \n",
    "                                                            derive_func=transforms.get_month)\n",
    "                                                            ),\n",
    "                (\"create_holiday_col\",transforms.DerivedColumnTransformer(column_name='datetime', \n",
    "                                                            new_column_name='is_holiday', \n",
    "                                                            derive_func=transforms.is_holiday)\n",
    "                                                            ),\n",
    "                (\"create_hour_col\",transforms.DerivedColumnTransformer(column_name='datetime', \n",
    "                                                            new_column_name='hour', \n",
    "                                                            derive_func=transforms.get_hour)\n",
    "                                                            ),\n",
    "                (\"create_hour_sin\",transforms.DerivedColumnTransformer(column_name='hour', \n",
    "                                                            new_column_name='hour_sin', \n",
    "                                                            derive_func=transforms.time_sin_transform,\n",
    "                   \n",
    "                                                            func_kwargs={'period':24})\n",
    "                                                            ),\n",
    "                (\"create_hour_cos\",transforms.DerivedColumnTransformer(column_name='hour', \n",
    "                                                            new_column_name='hour_cos', \n",
    "                                                            derive_func=transforms.time_cos_transform,\n",
    "                                                            func_kwargs={'period':24})\n",
    "                                                            ),\n",
    "                (\"create_month_sin\",transforms.DerivedColumnTransformer(column_name='month', \n",
    "                                                            new_column_name='month_sin', \n",
    "                                                            derive_func=transforms.time_sin_transform,\n",
    "                                                            func_kwargs={'period':12})\n",
    "                                                            ),\n",
    "                (\"create_month_cos\",transforms.DerivedColumnTransformer(column_name='month', \n",
    "                                                            new_column_name='month_cos', \n",
    "                                                            derive_func=transforms.time_cos_transform,\n",
    "                                                            func_kwargs={'period':12})\n",
    "                                                            ),\n",
    "                (\"one_hot_categorical_column\", transforms.ColumsOneHotEncoder(categorical_column_names=categorical_column_names)),\n",
    "                ('drop_columns', transforms.ColumnsRemover(column_names=columns_to_drop)),\n",
    "\n",
    "\n",
    "            ]\n",
    "        )\n",
    "    return pipeline\n",
    "\n",
    "def main(model_name:str, pipeline, n_tuning_trials=1):\n",
    "    logger = logging.getLogger(__name__)\n",
    "    proj_root = utils.get_proj_root()\n",
    "\n",
    "    config = utils.get_config('config/config.ini')\n",
    "\n",
    "    model_output_dir = proj_root.joinpath(config[\"modelling_paths\"][\"model_output\"])\n",
    "    preprocessed_data_path = proj_root.joinpath(config['data_paths']['preprocessed_data'])\n",
    "\n",
    "    label_col_name = 'load'\n",
    "    model_params = config._sections[model_name]\n",
    "    model_class = training.get_model_class(model_name=model_name)\n",
    "    model = model_class(**model_params)\n",
    "\n",
    "\n",
    "\n",
    "    preprocessed_data = training.get_training_data(file_path=preprocessed_data_path)\n",
    "    training_data, testing_data = train_test_split(preprocessed_data, test_size=0.3, shuffle=False)\n",
    "\n",
    "\n",
    "\n",
    "    model_output_path = model_output_dir.joinpath(model_name + \".pkl\")\n",
    "    trainer = training.ModelTrainer(\n",
    "        model_class=model,\n",
    "        transform_pipeline=pipeline,\n",
    "        training_data=training_data,\n",
    "        testing_data=testing_data,\n",
    "        label_col_name=label_col_name,\n",
    "        model_output_path=model_output_path\n",
    "    )\n",
    "\n",
    "    logger.info(\"==============tuning started=============\")\n",
    "    trainer.tune_model(n_trials=n_tuning_trials)\n",
    "    # logger.info('tuning completed')\n",
    "    logger.info(\"==============training started====================\")\n",
    "    model = trainer.train_model(save_model=True)\n",
    "    logger.info(\"==========training completed===============\")\n",
    "    logger.info(\"==========evaluation===============\")\n",
    "    score = trainer.evaluate_model()\n",
    "    print(f\"test score:{score}\")\n",
    "    logger.info(f\"test score:{score}\")\n",
    "    score = trainer.inf_model()\n",
    "    print(f\"test score:{score}\")\n",
    "    logger.info(f\"inf score:{score}\")\n",
    "    logger.info(\"==========evaluation completed===============\")\n",
    "\n",
    "    return model, score\n",
    "\n",
    "model_results = {}\n",
    "\n",
    "for model_name in model_names:\n",
    "\n",
    "    pipeline = make_pipeline()\n",
    "    model, score = main(model_name=model_name, pipeline=pipeline, n_tuning_trials=n_tuning_trials)\n",
    "    model_results[model_name] = model, score\n",
    "\n",
    "experiments[experiment_name] = model_results\n"
   ]
  },
  {
   "cell_type": "markdown",
   "metadata": {},
   "source": [
    "## Add higer order temperature"
   ]
  },
  {
   "cell_type": "code",
   "execution_count": 161,
   "metadata": {},
   "outputs": [],
   "source": [
    "from sklearn.preprocessing import MinMaxScaler, OneHotEncoder\n",
    "from sklearn.compose import ColumnTransformer\n",
    "from sklearn.preprocessing import SplineTransformer\n",
    "\n",
    "one_hot_encoder = OneHotEncoder(handle_unknown=\"ignore\", sparse_output=False)\n",
    "def periodic_spline_transformer(period, n_splines, degree):\n",
    "    if n_splines is None:\n",
    "        n_splines = period\n",
    "    n_knots = n_splines + 1  # periodic and include_bias is True\n",
    "    return SplineTransformer(\n",
    "        degree=degree,\n",
    "        n_knots=n_knots,\n",
    "        knots=np.linspace(0, period, n_knots).reshape(n_knots, 1),\n",
    "        extrapolation=\"periodic\",\n",
    "        include_bias=True,\n",
    "    )\n",
    "categorical_column_names = ['hour', 'month']\n",
    "# cyclic_spline_transformer = ColumnTransformer(\n",
    "#     transformers=[\n",
    "#         # (\"categorical\", one_hot_encoder, categorical_column_names),\n",
    "#         (\"cyclic_month\", periodic_spline_transformer(12, n_splines=6), [\"month\"]),\n",
    "#         # (\"cyclic_weekday\", periodic_spline_transformer(7, n_splines=3), [\"weekday\"]),\n",
    "#         (\"cyclic_hour\", periodic_spline_transformer(24, n_splines=12), [\"hour\"]),\n",
    "#     ],\n",
    "#     # remainder=MinMaxScaler(),\n",
    "# )"
   ]
  },
  {
   "cell_type": "code",
   "execution_count": 162,
   "metadata": {},
   "outputs": [
    {
     "name": "stderr",
     "output_type": "stream",
     "text": [
      "[I 2024-04-05 00:40:08,288] A new study created in memory with name: no-name-f0363090-0ed9-452e-bb5c-3617975db322\n"
     ]
    },
    {
     "name": "stdout",
     "output_type": "stream",
     "text": [
      "['t11', 't14', 't20', 't4', 't12', 't16']\n"
     ]
    },
    {
     "name": "stderr",
     "output_type": "stream",
     "text": [
      "[I 2024-04-05 00:40:08,864] Trial 0 finished with value: -0.1146994925765219 and parameters: {'alpha': 0.14972072674750347}. Best is trial 0 with value: -0.1146994925765219.\n"
     ]
    },
    {
     "name": "stdout",
     "output_type": "stream",
     "text": [
      "Trial 0, alpha: 0.14972072674750347,  mape: 0.1146994925765219\n"
     ]
    },
    {
     "name": "stderr",
     "output_type": "stream",
     "text": [
      "[I 2024-04-05 00:40:09,412] Trial 1 finished with value: -0.11467432587181978 and parameters: {'alpha': 0.29340369087725043}. Best is trial 1 with value: -0.11467432587181978.\n"
     ]
    },
    {
     "name": "stdout",
     "output_type": "stream",
     "text": [
      "Trial 1, alpha: 0.29340369087725043,  mape: 0.11467432587181978\n"
     ]
    },
    {
     "name": "stderr",
     "output_type": "stream",
     "text": [
      "[I 2024-04-05 00:40:10,146] Trial 2 finished with value: -0.11420144656445304 and parameters: {'alpha': 3.192898340605058}. Best is trial 2 with value: -0.11420144656445304.\n"
     ]
    },
    {
     "name": "stdout",
     "output_type": "stream",
     "text": [
      "Trial 2, alpha: 3.192898340605058,  mape: 0.11420144656445304\n"
     ]
    },
    {
     "name": "stderr",
     "output_type": "stream",
     "text": [
      "[I 2024-04-05 00:40:10,776] Trial 3 finished with value: -0.11467736159263571 and parameters: {'alpha': 0.2760131702563999}. Best is trial 2 with value: -0.11420144656445304.\n"
     ]
    },
    {
     "name": "stdout",
     "output_type": "stream",
     "text": [
      "Trial 3, alpha: 0.2760131702563999,  mape: 0.11467736159263571\n"
     ]
    },
    {
     "name": "stderr",
     "output_type": "stream",
     "text": [
      "[I 2024-04-05 00:40:11,441] Trial 4 finished with value: -0.11409948215667216 and parameters: {'alpha': 3.871625792199739}. Best is trial 4 with value: -0.11409948215667216.\n"
     ]
    },
    {
     "name": "stdout",
     "output_type": "stream",
     "text": [
      "Trial 4, alpha: 3.871625792199739,  mape: 0.11409948215667216\n"
     ]
    },
    {
     "name": "stderr",
     "output_type": "stream",
     "text": [
      "[I 2024-04-05 00:40:12,093] Trial 5 finished with value: -0.11460221450965177 and parameters: {'alpha': 0.7095858108759034}. Best is trial 4 with value: -0.11409948215667216.\n"
     ]
    },
    {
     "name": "stdout",
     "output_type": "stream",
     "text": [
      "Trial 5, alpha: 0.7095858108759034,  mape: 0.11460221450965177\n"
     ]
    },
    {
     "name": "stderr",
     "output_type": "stream",
     "text": [
      "[I 2024-04-05 00:40:12,726] Trial 6 finished with value: -0.11452610293361272 and parameters: {'alpha': 1.1602340387989734}. Best is trial 4 with value: -0.11409948215667216.\n"
     ]
    },
    {
     "name": "stdout",
     "output_type": "stream",
     "text": [
      "Trial 6, alpha: 1.1602340387989734,  mape: 0.11452610293361272\n"
     ]
    },
    {
     "name": "stderr",
     "output_type": "stream",
     "text": [
      "[I 2024-04-05 00:40:13,232] Trial 7 finished with value: -0.11450571122756617 and parameters: {'alpha': 1.2824785356312756}. Best is trial 4 with value: -0.11409948215667216.\n"
     ]
    },
    {
     "name": "stdout",
     "output_type": "stream",
     "text": [
      "Trial 7, alpha: 1.2824785356312756,  mape: 0.11450571122756617\n"
     ]
    },
    {
     "name": "stderr",
     "output_type": "stream",
     "text": [
      "[I 2024-04-05 00:40:13,807] Trial 8 finished with value: -0.11405368040561166 and parameters: {'alpha': 4.186820519560398}. Best is trial 8 with value: -0.11405368040561166.\n"
     ]
    },
    {
     "name": "stdout",
     "output_type": "stream",
     "text": [
      "Trial 8, alpha: 4.186820519560398,  mape: 0.11405368040561166\n"
     ]
    },
    {
     "name": "stderr",
     "output_type": "stream",
     "text": [
      "[I 2024-04-05 00:40:14,297] Trial 9 finished with value: -0.11451107055849932 and parameters: {'alpha': 1.250330004218754}. Best is trial 8 with value: -0.11405368040561166.\n"
     ]
    },
    {
     "name": "stdout",
     "output_type": "stream",
     "text": [
      "Trial 9, alpha: 1.250330004218754,  mape: 0.11451107055849932\n",
      "using tuned params\n",
      "best score is: -0.11405368040561166\n",
      "test score:0.09940206510985697\n",
      "test score:0.09940206510985697\n"
     ]
    }
   ],
   "source": [
    "n_tuning_trials = 10\n",
    "experiment_name = 'higher_order_temperature'\n",
    "\n",
    "\n",
    "\n",
    "\n",
    "\n",
    "def make_pipeline():\n",
    "\n",
    "    categorical_column_names = ['hour', 'month']\n",
    "    columns_to_drop = ['date', 'hour', 'datetime']\n",
    "\n",
    "    temperature_column_names_path = proj_root.joinpath(config['modelling_paths']['temperature_columns'])\n",
    "    optimal_temperature_column_names_path = proj_root.joinpath(config['modelling_paths']['optimal_temperature_columns'])\n",
    "    optimal_temperature_column_names = utils.load_value(optimal_temperature_column_names_path)\n",
    "    # daily_load_profile_path = proj_root.joinpath(config['modelling_paths']['daily_load_profile_feature'])\n",
    "    print(optimal_temperature_column_names)\n",
    "\n",
    "\n",
    "\n",
    "    pipeline = Pipeline(\n",
    "            steps=[\n",
    "                (\"select_optimal_temperature_columns\", transforms.OptimalTemperatureSelector(\n",
    "                    temperature_column_names_path=temperature_column_names_path,\n",
    "                    optimal_temperature_column_names_path=optimal_temperature_column_names_path)  \n",
    "                ),\n",
    "                (\"create_mean_temperature\",transforms.DerivedColumnTransformer(column_name=optimal_temperature_column_names, \n",
    "                                                            new_column_name='mean_temp', \n",
    "                                                            derive_func=np.mean, func_kwargs={'axis':1})\n",
    "                                                            ),\n",
    "                \n",
    "                (\"create_temperature_squared\",transforms.DerivedColumnTransformer(column_name='mean_temp', \n",
    "                                                            new_column_name='temp_sq', \n",
    "                                                            derive_func=np.square)\n",
    "                                                            ),\n",
    "                (\"create_temperature_cube\",transforms.DerivedColumnTransformer(column_name='mean_temp', \n",
    "                                                            new_column_name='temp_cube', \n",
    "                                                            derive_func=transforms.exp_value, func_kwargs={'exp':3})\n",
    "                                                            ),\n",
    "\n",
    "                (\"create_weekend_col\", transforms.DerivedColumnTransformer(column_name='datetime', \n",
    "                                                            new_column_name='is_weekend', \n",
    "                                                            derive_func=transforms.is_weekend)\n",
    "                                                            ),\n",
    "                (\"create_month_col\", transforms.DerivedColumnTransformer(column_name='datetime', \n",
    "                                                            new_column_name='month', \n",
    "                                                            derive_func=transforms.get_month)\n",
    "                                                            ),\n",
    "                (\"create_holiday_col\",transforms.DerivedColumnTransformer(column_name='datetime', \n",
    "                                                            new_column_name='is_holiday', \n",
    "                                                            derive_func=transforms.is_holiday)\n",
    "                                                            ),\n",
    "                (\"create_hour_col\",transforms.DerivedColumnTransformer(column_name='datetime', \n",
    "                                                            new_column_name='hour', \n",
    "                                                            derive_func=transforms.get_hour)\n",
    "                                                            ),\n",
    "                # (\"create_hour_sin\",transforms.DerivedColumnTransformer(column_name='hour', \n",
    "                #                                             new_column_name='hour_sin', \n",
    "                #                                             derive_func=transforms.time_sin_transform,\n",
    "                   \n",
    "                #                                             func_kwargs={'period':24})\n",
    "                #                                             ),\n",
    "                # (\"create_hour_cos\",transforms.DerivedColumnTransformer(column_name='hour', \n",
    "                #                                             new_column_name='hour_cos', \n",
    "                #                                             derive_func=transforms.time_cos_transform,\n",
    "                #                                             func_kwargs={'period':24})\n",
    "                #                                             ),\n",
    "                # (\"create_month_sin\",transforms.DerivedColumnTransformer(column_name='month', \n",
    "                #                                             new_column_name='month_sin', \n",
    "                #                                             derive_func=transforms.time_sin_transform,\n",
    "                #                                             func_kwargs={'period':12})\n",
    "                #                                             ),\n",
    "                # (\"create_month_cos\",transforms.DerivedColumnTransformer(column_name='month', \n",
    "                #                                             new_column_name='month_cos', \n",
    "                #                                             derive_func=transforms.time_cos_transform,\n",
    "                #                                             func_kwargs={'period':12})\n",
    "                #                                             ),\n",
    "\n",
    "                # (\"create_interaction_temp_hour\",transforms.MultiColumnTransformer(column_names=['mean_temp', 'hour'], \n",
    "                #                                             new_column_name='temp_hour', \n",
    "                #                                             derive_func=transforms.multiply_columns)\n",
    "                #                                             ),\n",
    "                # (\"create_interaction_hour_temp_sq\",transforms.MultiColumnTransformer(column_names=['temp_sq', 'hour'], \n",
    "                #                                             new_column_name='temp_hour', \n",
    "                #                                             derive_func=transforms.multiply_columns)\n",
    "                #                                             ),\n",
    "                # (\"create_interaction_temp_month\",transforms.MultiColumnTransformer(column_names=['mean_temp', 'month'], \n",
    "                #                                             new_column_name='temp_month', \n",
    "                #                                             derive_func=transforms.multiply_columns)\n",
    "                #                                             ),\n",
    "                (\"one_hot_categorical_column\", transforms.ColumsOneHotEncoder(categorical_column_names=categorical_column_names)),\n",
    "                ('drop_columns', transforms.ColumnsRemover(column_names=columns_to_drop)),\n",
    "\n",
    "\n",
    "            ]\n",
    "        )\n",
    "    return pipeline\n",
    "\n",
    "def main(model_name:str, pipeline, n_tuning_trials=1):\n",
    "    logger = logging.getLogger(__name__)\n",
    "    proj_root = utils.get_proj_root()\n",
    "\n",
    "    config = utils.get_config('config/config.ini')\n",
    "\n",
    "    model_output_dir = proj_root.joinpath(config[\"modelling_paths\"][\"model_output\"])\n",
    "    preprocessed_data_path = proj_root.joinpath(config['data_paths']['preprocessed_data'])\n",
    "\n",
    "    label_col_name = 'load'\n",
    "    model_params = config._sections[model_name]\n",
    "    model_class = training.get_model_class(model_name=model_name)\n",
    "    model = model_class(**model_params)\n",
    "\n",
    "\n",
    "\n",
    "    preprocessed_data = training.get_training_data(file_path=preprocessed_data_path)\n",
    "    training_data, testing_data = train_test_split(preprocessed_data, test_size=0.3, shuffle=False)\n",
    "\n",
    "\n",
    "\n",
    "    model_output_path = model_output_dir.joinpath(model_name + \".pkl\")\n",
    "    trainer = training.ModelTrainer(\n",
    "        model_class=model,\n",
    "        transform_pipeline=pipeline,\n",
    "        training_data=training_data,\n",
    "        testing_data=testing_data,\n",
    "        label_col_name=label_col_name,\n",
    "        model_output_path=model_output_path\n",
    "    )\n",
    "\n",
    "    logger.info(\"==============tuning started=============\")\n",
    "    trainer.tune_model(n_trials=n_tuning_trials)\n",
    "    # logger.info('tuning completed')\n",
    "    logger.info(\"==============training started====================\")\n",
    "    model = trainer.train_model(save_model=True)\n",
    "    logger.info(\"==========training completed===============\")\n",
    "    logger.info(\"==========evaluation===============\")\n",
    "    score = trainer.evaluate_model()\n",
    "    print(f\"test score:{score}\")\n",
    "    logger.info(f\"test score:{score}\")\n",
    "    score = trainer.inf_model()\n",
    "    print(f\"test score:{score}\")\n",
    "    logger.info(f\"inf score:{score}\")\n",
    "    logger.info(\"==========evaluation completed===============\")\n",
    "\n",
    "    return model, score\n",
    "\n",
    "model_results = {}\n",
    "\n",
    "for model_name in model_names:\n",
    "\n",
    "    pipeline = make_pipeline()\n",
    "    model, score = main(model_name=model_name, pipeline=pipeline, n_tuning_trials=n_tuning_trials)\n",
    "    model_results[model_name] = model, score\n",
    "\n",
    "experiments[experiment_name] = model_results"
   ]
  },
  {
   "cell_type": "markdown",
   "metadata": {},
   "source": [
    "## Add season feature"
   ]
  },
  {
   "cell_type": "code",
   "execution_count": 163,
   "metadata": {},
   "outputs": [
    {
     "name": "stdout",
     "output_type": "stream",
     "text": [
      "[ 0  1  2  3  4  5  6  7  8  9 10 11] [ 2.14776703  1.15648994  0.34544505 -0.28536765 -0.73594814 -1.00629644\n",
      " -1.09641254 -1.00629644 -0.73594814 -0.28536765  0.34544505  1.15648994]\n"
     ]
    },
    {
     "data": {
      "image/png": "[encoded data removed]",
      "text/plain": [
       "<Figure size 640x480 with 1 Axes>"
      ]
     },
     "metadata": {},
     "output_type": "display_data"
    }
   ],
   "source": [
    "x = np.arange(0,12)\n",
    "y = np.power( np.abs(6-x),2)\n",
    "y = (y - np.mean(y))/ np.std(y)\n",
    "plt.plot(x, y)\n",
    "print(x, y)"
   ]
  },
  {
   "cell_type": "code",
   "execution_count": 164,
   "metadata": {},
   "outputs": [
    {
     "name": "stdout",
     "output_type": "stream",
     "text": [
      "['t11', 't14', 't20', 't4', 't12', 't16']\n"
     ]
    },
    {
     "name": "stderr",
     "output_type": "stream",
     "text": [
      "[I 2024-04-05 00:40:14,867] A new study created in memory with name: no-name-cecaaaed-4de6-4e64-b6ac-6a277d3ee0af\n",
      "[I 2024-04-05 00:40:15,355] Trial 0 finished with value: -0.10857786783679287 and parameters: {'alpha': 2.9423326327714454}. Best is trial 0 with value: -0.10857786783679287.\n"
     ]
    },
    {
     "name": "stdout",
     "output_type": "stream",
     "text": [
      "Trial 0, alpha: 2.9423326327714454,  mape: 0.10857786783679287\n"
     ]
    },
    {
     "name": "stderr",
     "output_type": "stream",
     "text": [
      "[I 2024-04-05 00:40:15,914] Trial 1 finished with value: -0.11019943889196986 and parameters: {'alpha': 0.603005508920678}. Best is trial 0 with value: -0.10857786783679287.\n"
     ]
    },
    {
     "name": "stdout",
     "output_type": "stream",
     "text": [
      "Trial 1, alpha: 0.603005508920678,  mape: 0.11019943889196986\n"
     ]
    },
    {
     "name": "stderr",
     "output_type": "stream",
     "text": [
      "[I 2024-04-05 00:40:16,391] Trial 2 finished with value: -0.10864732279016043 and parameters: {'alpha': 2.815229780502454}. Best is trial 0 with value: -0.10857786783679287.\n"
     ]
    },
    {
     "name": "stdout",
     "output_type": "stream",
     "text": [
      "Trial 2, alpha: 2.815229780502454,  mape: 0.10864732279016043\n"
     ]
    },
    {
     "name": "stderr",
     "output_type": "stream",
     "text": [
      "[I 2024-04-05 00:40:16,869] Trial 3 finished with value: -0.10784521478609285 and parameters: {'alpha': 4.635027114217761}. Best is trial 3 with value: -0.10784521478609285.\n"
     ]
    },
    {
     "name": "stdout",
     "output_type": "stream",
     "text": [
      "Trial 3, alpha: 4.635027114217761,  mape: 0.10784521478609285\n"
     ]
    },
    {
     "name": "stderr",
     "output_type": "stream",
     "text": [
      "[I 2024-04-05 00:40:17,336] Trial 4 finished with value: -0.10975694379510656 and parameters: {'alpha': 1.1368857559825871}. Best is trial 3 with value: -0.10784521478609285.\n"
     ]
    },
    {
     "name": "stdout",
     "output_type": "stream",
     "text": [
      "Trial 4, alpha: 1.1368857559825871,  mape: 0.10975694379510656\n"
     ]
    },
    {
     "name": "stderr",
     "output_type": "stream",
     "text": [
      "[I 2024-04-05 00:40:17,808] Trial 5 finished with value: -0.11037819474724744 and parameters: {'alpha': 0.40305817379215364}. Best is trial 3 with value: -0.10784521478609285.\n"
     ]
    },
    {
     "name": "stdout",
     "output_type": "stream",
     "text": [
      "Trial 5, alpha: 0.40305817379215364,  mape: 0.11037819474724744\n"
     ]
    },
    {
     "name": "stderr",
     "output_type": "stream",
     "text": [
      "[I 2024-04-05 00:40:18,305] Trial 6 finished with value: -0.11060129089860962 and parameters: {'alpha': 0.16520599878246028}. Best is trial 3 with value: -0.10784521478609285.\n"
     ]
    },
    {
     "name": "stdout",
     "output_type": "stream",
     "text": [
      "Trial 6, alpha: 0.16520599878246028,  mape: 0.11060129089860962\n"
     ]
    },
    {
     "name": "stderr",
     "output_type": "stream",
     "text": [
      "[I 2024-04-05 00:40:18,785] Trial 7 finished with value: -0.11021308624481907 and parameters: {'alpha': 0.5874094396582052}. Best is trial 3 with value: -0.10784521478609285.\n"
     ]
    },
    {
     "name": "stdout",
     "output_type": "stream",
     "text": [
      "Trial 7, alpha: 0.5874094396582052,  mape: 0.11021308624481907\n"
     ]
    },
    {
     "name": "stderr",
     "output_type": "stream",
     "text": [
      "[I 2024-04-05 00:40:19,258] Trial 8 finished with value: -0.11062723358474018 and parameters: {'alpha': 0.13828226370127158}. Best is trial 3 with value: -0.10784521478609285.\n"
     ]
    },
    {
     "name": "stdout",
     "output_type": "stream",
     "text": [
      "Trial 8, alpha: 0.13828226370127158,  mape: 0.11062723358474018\n"
     ]
    },
    {
     "name": "stderr",
     "output_type": "stream",
     "text": [
      "[I 2024-04-05 00:40:19,725] Trial 9 finished with value: -0.11048594983225277 and parameters: {'alpha': 0.28671036963960533}. Best is trial 3 with value: -0.10784521478609285.\n"
     ]
    },
    {
     "name": "stdout",
     "output_type": "stream",
     "text": [
      "Trial 9, alpha: 0.28671036963960533,  mape: 0.11048594983225277\n",
      "using tuned params\n",
      "best score is: -0.10784521478609285\n",
      "test score:0.10149250764273475\n",
      "test score:0.10149250764273475\n",
      "{'linear_model': (Pipeline(steps=[('select_optimal_temperature_columns',\n",
      "                 OptimalTemperatureSelector(optimal_temperature_column_names_path=PosixPath('/home/aroge/projects/electricity-demand-forecast/models/features/optimal_temperature_columns.pkl'),\n",
      "                                            temperature_column_names_path=PosixPath('/home/aroge/projects/electricity-demand-forecast/models/features/temperature_col...\n",
      "                 MultiColumnTransformer(column_names=['month_season', 'hour'],\n",
      "                                        derive_func=<function multiply_columns at 0x7f21d638a680>,\n",
      "                                        new_column_name='month_season_hour')),\n",
      "                ('one_hot_categorical_column',\n",
      "                 ColumsOneHotEncoder(categorical_column_names=['hour',\n",
      "                                                               'month'])),\n",
      "                ('drop_columns',\n",
      "                 ColumnsRemover(column_names=['date', 'hour', 'datetime'])),\n",
      "                ['model', Ridge(alpha=4.635027114217761)]]), 0.10149250764273475)}\n"
     ]
    }
   ],
   "source": [
    "experiment_name = 'seasonal_features'\n",
    "\n",
    "def make_pipeline():\n",
    "\n",
    "    categorical_column_names = ['hour', 'month']\n",
    "    columns_to_drop = ['date', 'hour', 'datetime']\n",
    "\n",
    "    temperature_column_names_path = proj_root.joinpath(config['modelling_paths']['temperature_columns'])\n",
    "    optimal_temperature_column_names_path = proj_root.joinpath(config['modelling_paths']['optimal_temperature_columns'])\n",
    "    optimal_temperature_column_names = utils.load_value(optimal_temperature_column_names_path)\n",
    "    print(optimal_temperature_column_names)\n",
    "\n",
    "    pipeline = Pipeline(\n",
    "            steps=[\n",
    "                (\"select_optimal_temperature_columns\", transforms.OptimalTemperatureSelector(\n",
    "                    temperature_column_names_path=temperature_column_names_path,\n",
    "                    optimal_temperature_column_names_path=optimal_temperature_column_names_path)  \n",
    "                ),\n",
    "                (\"create_mean_temperature\",transforms.DerivedColumnTransformer(column_name=optimal_temperature_column_names, \n",
    "                                                            new_column_name='mean_temp', \n",
    "                                                            derive_func=np.mean, func_kwargs={'axis':1})\n",
    "                                                            ),\n",
    "                \n",
    "                (\"create_temperature_squared\",transforms.DerivedColumnTransformer(column_name='mean_temp', \n",
    "                                                            new_column_name='temp_sq', \n",
    "                                                            derive_func=np.square)\n",
    "                                                            ),\n",
    "                (\"create_temperature_cube\",transforms.DerivedColumnTransformer(column_name='mean_temp', \n",
    "                                                            new_column_name='temp_cube', \n",
    "                                                            derive_func=transforms.exp_value, func_kwargs={'exp':3})\n",
    "                                                            ),\n",
    "\n",
    "                (\"create_weekend_col\", transforms.DerivedColumnTransformer(column_name='datetime', \n",
    "                                                            new_column_name='is_weekend', \n",
    "                                                            derive_func=transforms.is_weekend)\n",
    "                                                            ),\n",
    "                (\"create_month_col\", transforms.DerivedColumnTransformer(column_name='datetime', \n",
    "                                                            new_column_name='month', \n",
    "                                                            derive_func=transforms.get_month)\n",
    "                                                            ),\n",
    "                (\"create_holiday_col\",transforms.DerivedColumnTransformer(column_name='datetime', \n",
    "                                                            new_column_name='is_holiday', \n",
    "                                                            derive_func=transforms.is_holiday)\n",
    "                                                            ),\n",
    "                (\"create_hour_col\",transforms.DerivedColumnTransformer(column_name='datetime', \n",
    "                                                            new_column_name='hour', \n",
    "                                                            derive_func=transforms.get_hour)\n",
    "                                                            ),\n",
    "                # (\"create_interaction_temp_hr\",transforms.MultiColumnTransformer(column_names=['mean_temp', 'hour'], \n",
    "                #                                             new_column_name='temp_hour', \n",
    "                #                                             derive_func=transforms.multiply_columns)\n",
    "                #                                             ),\n",
    "                (\"create_interaction_temp_month\",transforms.MultiColumnTransformer(column_names=['mean_temp', 'month'], \n",
    "                                                            new_column_name='temp_month', \n",
    "                                                            derive_func=transforms.multiply_columns)\n",
    "                                                            ),\n",
    "                (\"create_month_season\",transforms.DerivedColumnTransformer(column_name='month', \n",
    "                                                            new_column_name='month_season', \n",
    "                                                            derive_func=transforms.season_encode)\n",
    "                                                            ),\n",
    "                                                            \n",
    "                (\"create_interaction_month_season_hour\",transforms.MultiColumnTransformer(column_names=['month_season', 'hour'], \n",
    "                                                            new_column_name='month_season_hour', \n",
    "                                                            derive_func=transforms.multiply_columns)\n",
    "                                                            ),\n",
    "                (\"one_hot_categorical_column\", transforms.ColumsOneHotEncoder(categorical_column_names=categorical_column_names)),\n",
    "                ('drop_columns', transforms.ColumnsRemover(column_names=columns_to_drop)),\n",
    "\n",
    "\n",
    "            ]\n",
    "        )\n",
    "    return pipeline\n",
    "\n",
    "def main(model_name:str, pipeline, n_tuning_trials=1):\n",
    "    logger = logging.getLogger(__name__)\n",
    "    proj_root = utils.get_proj_root()\n",
    "\n",
    "    config = utils.get_config('config/config.ini')\n",
    "\n",
    "    model_output_dir = proj_root.joinpath(config[\"modelling_paths\"][\"model_output\"])\n",
    "    preprocessed_data_path = proj_root.joinpath(config['data_paths']['preprocessed_data'])\n",
    "\n",
    "    label_col_name = 'load'\n",
    "    model_params = config._sections[model_name]\n",
    "    model_class = training.get_model_class(model_name=model_name)\n",
    "    model = model_class(**model_params)\n",
    "\n",
    "\n",
    "\n",
    "    preprocessed_data = training.get_training_data(file_path=preprocessed_data_path)\n",
    "    training_data, testing_data = train_test_split(preprocessed_data, test_size=0.3, shuffle=False)\n",
    "\n",
    "\n",
    "\n",
    "    model_output_path = model_output_dir.joinpath(model_name + \".pkl\")\n",
    "    trainer = training.ModelTrainer(\n",
    "        model_class=model,\n",
    "        transform_pipeline=pipeline,\n",
    "        training_data=training_data,\n",
    "        testing_data=testing_data,\n",
    "        label_col_name=label_col_name,\n",
    "        model_output_path=model_output_path\n",
    "    )\n",
    "\n",
    "    logger.info(\"==============tuning started=============\")\n",
    "    trainer.tune_model(n_trials=n_tuning_trials)\n",
    "    # logger.info('tuning completed')\n",
    "    logger.info(\"==============training started====================\")\n",
    "    model = trainer.train_model(save_model=True)\n",
    "    logger.info(\"==========training completed===============\")\n",
    "    logger.info(\"==========evaluation===============\")\n",
    "    score = trainer.evaluate_model()\n",
    "    print(f\"test score:{score}\")\n",
    "    logger.info(f\"test score:{score}\")\n",
    "    score = trainer.inf_model()\n",
    "    print(f\"test score:{score}\")\n",
    "    logger.info(f\"inf score:{score}\")\n",
    "    logger.info(\"==========evaluation completed===============\")\n",
    "\n",
    "    return model, score\n",
    "\n",
    "model_results = {}\n",
    "\n",
    "for model_name in model_names:\n",
    "\n",
    "    pipeline = make_pipeline()\n",
    "    model, score = main(model_name=model_name, pipeline=pipeline, n_tuning_trials=n_tuning_trials)\n",
    "    model_results[model_name] = model, score\n",
    "\n",
    "experiments[experiment_name] = model_results\n",
    "print(model_results)"
   ]
  },
  {
   "cell_type": "markdown",
   "metadata": {},
   "source": [
    "\n",
    "## Add daily trend"
   ]
  },
  {
   "cell_type": "code",
   "execution_count": 165,
   "metadata": {},
   "outputs": [
    {
     "name": "stderr",
     "output_type": "stream",
     "text": [
      "[I 2024-04-05 00:40:20,083] A new study created in memory with name: no-name-99759523-ea47-466a-842d-31f8ae6d5441\n"
     ]
    },
    {
     "name": "stdout",
     "output_type": "stream",
     "text": [
      "['t11', 't14', 't20', 't4', 't12', 't16']\n"
     ]
    },
    {
     "name": "stderr",
     "output_type": "stream",
     "text": [
      "[I 2024-04-05 00:40:20,550] Trial 0 finished with value: -0.1132308945480915 and parameters: {'alpha': 0.5726402014697402}. Best is trial 0 with value: -0.1132308945480915.\n"
     ]
    },
    {
     "name": "stdout",
     "output_type": "stream",
     "text": [
      "Trial 0, alpha: 0.5726402014697402,  mape: 0.1132308945480915\n"
     ]
    },
    {
     "name": "stderr",
     "output_type": "stream",
     "text": [
      "[I 2024-04-05 00:40:21,014] Trial 1 finished with value: -0.11321538657119763 and parameters: {'alpha': 1.3201243996775054}. Best is trial 1 with value: -0.11321538657119763.\n"
     ]
    },
    {
     "name": "stdout",
     "output_type": "stream",
     "text": [
      "Trial 1, alpha: 1.3201243996775054,  mape: 0.11321538657119763\n"
     ]
    },
    {
     "name": "stderr",
     "output_type": "stream",
     "text": [
      "[I 2024-04-05 00:40:21,475] Trial 2 finished with value: -0.11322972388331203 and parameters: {'alpha': 0.6244781297316816}. Best is trial 1 with value: -0.11321538657119763.\n"
     ]
    },
    {
     "name": "stdout",
     "output_type": "stream",
     "text": [
      "Trial 2, alpha: 0.6244781297316816,  mape: 0.11322972388331203\n"
     ]
    },
    {
     "name": "stderr",
     "output_type": "stream",
     "text": [
      "[I 2024-04-05 00:40:21,942] Trial 3 finished with value: -0.11323542177233628 and parameters: {'alpha': 0.3698041794055936}. Best is trial 1 with value: -0.11321538657119763.\n"
     ]
    },
    {
     "name": "stdout",
     "output_type": "stream",
     "text": [
      "Trial 3, alpha: 0.3698041794055936,  mape: 0.11323542177233628\n"
     ]
    },
    {
     "name": "stderr",
     "output_type": "stream",
     "text": [
      "[I 2024-04-05 00:40:22,400] Trial 4 finished with value: -0.11320886063620113 and parameters: {'alpha': 1.6990828553105695}. Best is trial 4 with value: -0.11320886063620113.\n"
     ]
    },
    {
     "name": "stdout",
     "output_type": "stream",
     "text": [
      "Trial 4, alpha: 1.6990828553105695,  mape: 0.11320886063620113\n"
     ]
    },
    {
     "name": "stderr",
     "output_type": "stream",
     "text": [
      "[I 2024-04-05 00:40:22,883] Trial 5 finished with value: -0.11319986262120776 and parameters: {'alpha': 3.989111838622354}. Best is trial 5 with value: -0.11319986262120776.\n"
     ]
    },
    {
     "name": "stdout",
     "output_type": "stream",
     "text": [
      "Trial 5, alpha: 3.989111838622354,  mape: 0.11319986262120776\n"
     ]
    },
    {
     "name": "stderr",
     "output_type": "stream",
     "text": [
      "[I 2024-04-05 00:40:23,345] Trial 6 finished with value: -0.11323642759305341 and parameters: {'alpha': 0.3241933290453756}. Best is trial 5 with value: -0.11319986262120776.\n"
     ]
    },
    {
     "name": "stdout",
     "output_type": "stream",
     "text": [
      "Trial 6, alpha: 0.3241933290453756,  mape: 0.11323642759305341\n"
     ]
    },
    {
     "name": "stderr",
     "output_type": "stream",
     "text": [
      "[I 2024-04-05 00:40:23,817] Trial 7 finished with value: -0.11319882034711934 and parameters: {'alpha': 3.8495167510140016}. Best is trial 7 with value: -0.11319882034711934.\n"
     ]
    },
    {
     "name": "stdout",
     "output_type": "stream",
     "text": [
      "Trial 7, alpha: 3.8495167510140016,  mape: 0.11319882034711934\n"
     ]
    },
    {
     "name": "stderr",
     "output_type": "stream",
     "text": [
      "[I 2024-04-05 00:40:24,276] Trial 8 finished with value: -0.11323384693482452 and parameters: {'alpha': 0.44119127401989877}. Best is trial 7 with value: -0.11319882034711934.\n"
     ]
    },
    {
     "name": "stdout",
     "output_type": "stream",
     "text": [
      "Trial 8, alpha: 0.44119127401989877,  mape: 0.11323384693482452\n"
     ]
    },
    {
     "name": "stderr",
     "output_type": "stream",
     "text": [
      "[I 2024-04-05 00:40:24,739] Trial 9 finished with value: -0.11323343462490351 and parameters: {'alpha': 0.45955097087457636}. Best is trial 7 with value: -0.11319882034711934.\n"
     ]
    },
    {
     "name": "stdout",
     "output_type": "stream",
     "text": [
      "Trial 9, alpha: 0.45955097087457636,  mape: 0.11323343462490351\n",
      "using tuned params\n",
      "best score is: -0.11319882034711934\n",
      "test score:0.08923665864048742\n",
      "test score:0.08923665864048742\n"
     ]
    }
   ],
   "source": [
    "experiment_name = 'trend'\n",
    "\n",
    "def make_pipeline():\n",
    "\n",
    "    categorical_column_names = ['hour', 'month']\n",
    "    columns_to_drop = ['date', 'hour', 'datetime']\n",
    "\n",
    "    temperature_column_names_path = proj_root.joinpath(config['modelling_paths']['temperature_columns'])\n",
    "    optimal_temperature_column_names_path = proj_root.joinpath(config['modelling_paths']['optimal_temperature_columns'])\n",
    "    optimal_temperature_column_names = utils.load_value(optimal_temperature_column_names_path)\n",
    "    print(optimal_temperature_column_names)\n",
    "\n",
    "    pipeline = Pipeline(\n",
    "            steps=[\n",
    "                (\"select_optimal_temperature_columns\", transforms.OptimalTemperatureSelector(\n",
    "                    temperature_column_names_path=temperature_column_names_path,\n",
    "                    optimal_temperature_column_names_path=optimal_temperature_column_names_path)  \n",
    "                ),\n",
    "                (\"create_mean_temperature\",transforms.DerivedColumnTransformer(column_name=optimal_temperature_column_names, \n",
    "                                                            new_column_name='mean_temp', \n",
    "                                                            derive_func=np.mean, func_kwargs={'axis':1})\n",
    "                                                            ),\n",
    "                \n",
    "                (\"create_temperature_squared\",transforms.DerivedColumnTransformer(column_name='mean_temp', \n",
    "                                                            new_column_name='temp_sq', \n",
    "                                                            derive_func=np.square)\n",
    "                                                            ),\n",
    "                (\"create_temperature_cube\",transforms.DerivedColumnTransformer(column_name='mean_temp', \n",
    "                                                            new_column_name='temp_cube', \n",
    "                                                            derive_func=transforms.exp_value, func_kwargs={'exp':3})\n",
    "                                                            ),\n",
    "\n",
    "                (\"create_weekend_col\", transforms.DerivedColumnTransformer(column_name='datetime', \n",
    "                                                            new_column_name='is_weekend', \n",
    "                                                            derive_func=transforms.is_weekend)\n",
    "                                                            ),\n",
    "                (\"create_month_col\", transforms.DerivedColumnTransformer(column_name='datetime', \n",
    "                                                            new_column_name='month', \n",
    "                                                            derive_func=transforms.get_month)\n",
    "                                                            ),\n",
    "                (\"create_holiday_col\",transforms.DerivedColumnTransformer(column_name='datetime', \n",
    "                                                            new_column_name='is_holiday', \n",
    "                                                            derive_func=transforms.is_holiday)\n",
    "                                                            ),\n",
    "                (\"create_hour_col\",transforms.DerivedColumnTransformer(column_name='datetime', \n",
    "                                                            new_column_name='hour', \n",
    "                                                            derive_func=transforms.get_hour)\n",
    "                                                            ),\n",
    "                # (\"create_interaction_temp_hr\",transforms.MultiColumnTransformer(column_names=['mean_temp', 'hour'], \n",
    "                #                                             new_column_name='temp_hour', \n",
    "                #                                             derive_func=transforms.multiply_columns)\n",
    "                #                                             ),\n",
    "                (\"create_interaction_temp_month\",transforms.MultiColumnTransformer(column_names=['mean_temp', 'month'], \n",
    "                                                            new_column_name='temp_month', \n",
    "                                                            derive_func=transforms.multiply_columns)\n",
    "                                                            ),\n",
    "                (\"create_trend\",transforms.DerivedColumnTransformer(column_name='datetime', \n",
    "                                                            new_column_name='trend', \n",
    "                                                            derive_func=transforms.trend)\n",
    "                                                            ),\n",
    "                (\"one_hot_categorical_column\", transforms.ColumsOneHotEncoder(categorical_column_names=categorical_column_names)),\n",
    "                ('drop_columns', transforms.ColumnsRemover(column_names=columns_to_drop)),\n",
    "\n",
    "\n",
    "            ]\n",
    "        )\n",
    "    return pipeline\n",
    "\n",
    "def main(model_name:str, pipeline, n_tuning_trials=1):\n",
    "    logger = logging.getLogger(__name__)\n",
    "    proj_root = utils.get_proj_root()\n",
    "\n",
    "    config = utils.get_config('config/config.ini')\n",
    "\n",
    "    model_output_dir = proj_root.joinpath(config[\"modelling_paths\"][\"model_output\"])\n",
    "    preprocessed_data_path = proj_root.joinpath(config['data_paths']['preprocessed_data'])\n",
    "\n",
    "    label_col_name = 'load'\n",
    "    model_params = config._sections[model_name]\n",
    "    model_class = training.get_model_class(model_name=model_name)\n",
    "    model = model_class(**model_params)\n",
    "\n",
    "\n",
    "\n",
    "    preprocessed_data = training.get_training_data(file_path=preprocessed_data_path)\n",
    "    training_data, testing_data = train_test_split(preprocessed_data, test_size=0.3, shuffle=False)\n",
    "\n",
    "\n",
    "\n",
    "    model_output_path = model_output_dir.joinpath(model_name + \".pkl\")\n",
    "    trainer = training.ModelTrainer(\n",
    "        model_class=model,\n",
    "        transform_pipeline=pipeline,\n",
    "        training_data=training_data,\n",
    "        testing_data=testing_data,\n",
    "        label_col_name=label_col_name,\n",
    "        model_output_path=model_output_path\n",
    "    )\n",
    "\n",
    "    logger.info(\"==============tuning started=============\")\n",
    "    trainer.tune_model(n_trials=n_tuning_trials)\n",
    "    # logger.info('tuning completed')\n",
    "    logger.info(\"==============training started====================\")\n",
    "    model = trainer.train_model(save_model=True)\n",
    "    logger.info(\"==========training completed===============\")\n",
    "    logger.info(\"==========evaluation===============\")\n",
    "    score = trainer.evaluate_model()\n",
    "    print(f\"test score:{score}\")\n",
    "    logger.info(f\"test score:{score}\")\n",
    "    score = trainer.inf_model()\n",
    "    print(f\"test score:{score}\")\n",
    "    logger.info(f\"inf score:{score}\")\n",
    "    logger.info(\"==========evaluation completed===============\")\n",
    "\n",
    "    return model, score\n",
    "\n",
    "model_results = {}\n",
    "\n",
    "for model_name in model_names:\n",
    "\n",
    "    pipeline = make_pipeline()\n",
    "    model, score = main(model_name=model_name, pipeline=pipeline, n_tuning_trials=n_tuning_trials)\n",
    "    model_results[model_name] = model, score\n",
    "\n",
    "experiments[experiment_name] = model_results\n"
   ]
  },
  {
   "cell_type": "markdown",
   "metadata": {},
   "source": [
    "## Add non-linear features"
   ]
  },
  {
   "cell_type": "code",
   "execution_count": null,
   "metadata": {},
   "outputs": [],
   "source": []
  },
  {
   "cell_type": "code",
   "execution_count": 166,
   "metadata": {},
   "outputs": [
    {
     "name": "stderr",
     "output_type": "stream",
     "text": [
      "[I 2024-04-05 00:40:25,091] A new study created in memory with name: no-name-4dfba19e-a71f-482a-b59c-1d0f4f2fa919\n",
      "[I 2024-04-05 00:40:25,465] Trial 0 finished with value: -0.342230669186533 and parameters: {'alpha': 0.8211715889850644}. Best is trial 0 with value: -0.342230669186533.\n"
     ]
    },
    {
     "name": "stdout",
     "output_type": "stream",
     "text": [
      "Trial 0, alpha: 0.8211715889850644,  mape: 0.342230669186533\n"
     ]
    },
    {
     "name": "stderr",
     "output_type": "stream",
     "text": [
      "[I 2024-04-05 00:40:25,855] Trial 1 finished with value: -0.34199846737455325 and parameters: {'alpha': 1.2241968178684954}. Best is trial 1 with value: -0.34199846737455325.\n"
     ]
    },
    {
     "name": "stdout",
     "output_type": "stream",
     "text": [
      "Trial 1, alpha: 1.2241968178684954,  mape: 0.34199846737455325\n"
     ]
    },
    {
     "name": "stderr",
     "output_type": "stream",
     "text": [
      "[I 2024-04-05 00:40:26,265] Trial 2 finished with value: -0.34239660295990737 and parameters: {'alpha': 0.5358996384089731}. Best is trial 1 with value: -0.34199846737455325.\n"
     ]
    },
    {
     "name": "stdout",
     "output_type": "stream",
     "text": [
      "Trial 2, alpha: 0.5358996384089731,  mape: 0.34239660295990737\n"
     ]
    },
    {
     "name": "stderr",
     "output_type": "stream",
     "text": [
      "[I 2024-04-05 00:40:26,755] Trial 3 finished with value: -0.3424859894570399 and parameters: {'alpha': 0.3830064996596321}. Best is trial 1 with value: -0.34199846737455325.\n"
     ]
    },
    {
     "name": "stdout",
     "output_type": "stream",
     "text": [
      "Trial 3, alpha: 0.3830064996596321,  mape: 0.3424859894570399\n"
     ]
    },
    {
     "name": "stderr",
     "output_type": "stream",
     "text": [
      "[I 2024-04-05 00:40:27,198] Trial 4 finished with value: -0.3426433772946268 and parameters: {'alpha': 0.11505859298647797}. Best is trial 1 with value: -0.34199846737455325.\n"
     ]
    },
    {
     "name": "stdout",
     "output_type": "stream",
     "text": [
      "Trial 4, alpha: 0.11505859298647797,  mape: 0.3426433772946268\n"
     ]
    },
    {
     "name": "stderr",
     "output_type": "stream",
     "text": [
      "[I 2024-04-05 00:40:27,645] Trial 5 finished with value: -0.3426504673096858 and parameters: {'alpha': 0.10302564895609281}. Best is trial 1 with value: -0.34199846737455325.\n"
     ]
    },
    {
     "name": "stdout",
     "output_type": "stream",
     "text": [
      "Trial 5, alpha: 0.10302564895609281,  mape: 0.3426504673096858\n"
     ]
    },
    {
     "name": "stderr",
     "output_type": "stream",
     "text": [
      "[I 2024-04-05 00:40:28,041] Trial 6 finished with value: -0.3425880406685836 and parameters: {'alpha': 0.20908709949588639}. Best is trial 1 with value: -0.34199846737455325.\n"
     ]
    },
    {
     "name": "stdout",
     "output_type": "stream",
     "text": [
      "Trial 6, alpha: 0.20908709949588639,  mape: 0.3425880406685836\n"
     ]
    },
    {
     "name": "stderr",
     "output_type": "stream",
     "text": [
      "[I 2024-04-05 00:40:28,439] Trial 7 finished with value: -0.34250731618008523 and parameters: {'alpha': 0.3466090225449221}. Best is trial 1 with value: -0.34199846737455325.\n"
     ]
    },
    {
     "name": "stdout",
     "output_type": "stream",
     "text": [
      "Trial 7, alpha: 0.3466090225449221,  mape: 0.34250731618008523\n"
     ]
    },
    {
     "name": "stderr",
     "output_type": "stream",
     "text": [
      "[I 2024-04-05 00:40:28,872] Trial 8 finished with value: -0.34206150671719343 and parameters: {'alpha': 1.1144499333634035}. Best is trial 1 with value: -0.34199846737455325.\n"
     ]
    },
    {
     "name": "stdout",
     "output_type": "stream",
     "text": [
      "Trial 8, alpha: 1.1144499333634035,  mape: 0.34206150671719343\n"
     ]
    },
    {
     "name": "stderr",
     "output_type": "stream",
     "text": [
      "[I 2024-04-05 00:40:29,366] Trial 9 finished with value: -0.34194557666989783 and parameters: {'alpha': 1.3164710541659694}. Best is trial 9 with value: -0.34194557666989783.\n"
     ]
    },
    {
     "name": "stdout",
     "output_type": "stream",
     "text": [
      "Trial 9, alpha: 1.3164710541659694,  mape: 0.34194557666989783\n",
      "using tuned params\n",
      "best score is: -0.34194557666989783\n",
      "test score:0.18585412526361272\n",
      "test score:0.18585412526361272\n"
     ]
    }
   ],
   "source": [
    "experiment_name = 'non-linear feature'\n",
    "proj_root = utils.get_proj_root()\n",
    "\n",
    "config = utils.get_config('config/config.ini')\n",
    "\n",
    "def make_pipeline():\n",
    "\n",
    "    categorical_column_names = ['hour', 'month']\n",
    "    columns_to_drop = ['date', 'hour', 'datetime']\n",
    "\n",
    "    temperature_column_names_path = proj_root.joinpath(config['modelling_paths']['temperature_columns'])\n",
    "    optimal_temperature_column_names_path = proj_root.joinpath(config['modelling_paths']['optimal_temperature_columns'])\n",
    "    daily_load_profile_path = proj_root.joinpath(config['modelling_paths']['daily_load_profile_feature'])\n",
    "\n",
    "    \n",
    "\n",
    "    pipeline = Pipeline(\n",
    "            steps=[\n",
    "                (\"select_optimal_temperature_columns\", transforms.OptimalTemperatureSelector(\n",
    "                    temperature_column_names_path=temperature_column_names_path,\n",
    "                    optimal_temperature_column_names_path=optimal_temperature_column_names_path)  \n",
    "                ),\n",
    "                (\"create_weekend_col\", transforms.DerivedColumnTransformer(column_name='datetime', \n",
    "                                                            new_column_name='is_weekend', \n",
    "                                                            derive_func=transforms.is_weekend)\n",
    "                                                            ),\n",
    "                (\"create_month_col\", transforms.DerivedColumnTransformer(column_name='datetime', \n",
    "                                                            new_column_name='month', \n",
    "                                                            derive_func=transforms.get_month)\n",
    "                                                            ),\n",
    "                (\"create_holiday_col\",transforms.DerivedColumnTransformer(column_name='datetime', \n",
    "                                                            new_column_name='is_holiday', \n",
    "                                                            derive_func=transforms.is_holiday)\n",
    "                                                            ),\n",
    "                (\"create_hour_col\",transforms.DerivedColumnTransformer(column_name='datetime', \n",
    "                                                            new_column_name='hour', \n",
    "                                                            derive_func=transforms.get_hour)\n",
    "                                                            ),\n",
    "                # (\"create_month_season\",transforms.DerivedColumnTransformer(column_name='month', \n",
    "                #                                             new_column_name='month_season', \n",
    "                #                                             derive_func=transforms.season_encode)\n",
    "                #                                             ),\n",
    "                # (\"create_non_linear_hour_features\",transforms.HourlyProfileTransformer(datetime_column_name='datetime',\n",
    "                #                                                                        feature_path=daily_load_profile_path)),                         \n",
    "                (\"one_hot_categorical_column\", transforms.ColumsOneHotEncoder(categorical_column_names=categorical_column_names)),\n",
    "                ('drop_columns', transforms.ColumnsRemover(column_names=columns_to_drop)),\n",
    "\n",
    "\n",
    "            ]\n",
    "        )\n",
    "    return pipeline\n",
    "\n",
    "def main(model_name:str, pipeline, n_tuning_trials=1):\n",
    "    logger = logging.getLogger(__name__)\n",
    "    proj_root = utils.get_proj_root()\n",
    "\n",
    "    config = utils.get_config('config/config.ini')\n",
    "\n",
    "    model_output_dir = proj_root.joinpath(config[\"modelling_paths\"][\"model_output\"])\n",
    "    preprocessed_data_path = proj_root.joinpath(config['data_paths']['preprocessed_data'])\n",
    "\n",
    "    label_col_name = 'load'\n",
    "    model_params = config._sections[model_name]\n",
    "    model_class = training.get_model_class(model_name=model_name)\n",
    "    model = model_class(**model_params)\n",
    "\n",
    "\n",
    "\n",
    "    preprocessed_data = training.get_training_data(file_path=preprocessed_data_path)\n",
    "    training_data, testing_data = train_test_split(preprocessed_data, test_size=0.3, shuffle=False)\n",
    "\n",
    "\n",
    "\n",
    "    model_output_path = model_output_dir.joinpath(model_name + \".pkl\")\n",
    "    trainer = training.ModelTrainer(\n",
    "        model_class=model,\n",
    "        transform_pipeline=pipeline,\n",
    "        training_data=training_data,\n",
    "        testing_data=testing_data,\n",
    "        label_col_name=label_col_name,\n",
    "        model_output_path=model_output_path\n",
    "    )\n",
    "\n",
    "    logger.info(\"==============tuning started=============\")\n",
    "    trainer.tune_model(n_trials=n_tuning_trials)\n",
    "    # logger.info('tuning completed')\n",
    "    logger.info(\"==============training started====================\")\n",
    "    model = trainer.train_model(save_model=True)\n",
    "    logger.info(\"==========training completed===============\")\n",
    "    logger.info(\"==========evaluation===============\")\n",
    "    score = trainer.evaluate_model()\n",
    "    print(f\"test score:{score}\")\n",
    "    logger.info(f\"test score:{score}\")\n",
    "    score = trainer.inf_model()\n",
    "    print(f\"test score:{score}\")\n",
    "    logger.info(f\"inf score:{score}\")\n",
    "    logger.info(\"==========evaluation completed===============\")\n",
    "\n",
    "    return model, score\n",
    "\n",
    "model_results = {}\n",
    "\n",
    "for model_name in model_names:\n",
    "\n",
    "    pipeline = make_pipeline()\n",
    "    model, score = main(model_name=model_name, pipeline=pipeline, n_tuning_trials=n_tuning_trials)\n",
    "    model_results[model_name] = model, score\n",
    "\n",
    "experiments[experiment_name] = model_results\n"
   ]
  },
  {
   "cell_type": "code",
   "execution_count": 167,
   "metadata": {},
   "outputs": [
    {
     "data": {
      "text/plain": [
       "{'linear_model': [(Pipeline(steps=[('select_optimal_temperature_columns',\n",
       "                    OptimalTemperatureSelector(optimal_temperature_column_names_path=PosixPath('/home/aroge/projects/electricity-demand-forecast/models/features/optimal_temperature_columns.pkl'),\n",
       "                                               temperature_column_names_path=PosixPath('/home/aroge/projects/electricity-demand-forecast/models/features/temperature_col...\n",
       "                                             new_column_name='is_holiday')),\n",
       "                   ('create_hour_col',\n",
       "                    DerivedColumnTransformer(column_name='datetime',\n",
       "                                             derive_func=<function get_hour at 0x7f21d638b880>,\n",
       "                                             new_column_name='hour')),\n",
       "                   ('one_hot_categorical_column',\n",
       "                    ColumsOneHotEncoder(categorical_column_names=['hour',\n",
       "                                                                  'month'])),\n",
       "                   ('drop_columns',\n",
       "                    ColumnsRemover(column_names=['date', 'hour', 'datetime'])),\n",
       "                   ['model', Ridge(alpha=2.811007492269272)]]),\n",
       "   0.18573981018695263),\n",
       "  (Pipeline(steps=[('select_optimal_temperature_columns',\n",
       "                    OptimalTemperatureSelector(optimal_temperature_column_names_path=PosixPath('/home/aroge/projects/electricity-demand-forecast/models/features/optimal_temperature_columns.pkl'),\n",
       "                                               temperature_column_names_path=PosixPath('/home/aroge/projects/electricity-demand-forecast/models/features/temperature_col...\n",
       "                    DerivedColumnTransformer(column_name='month',\n",
       "                                             derive_func=<function time_cos_transform at 0x7f21d63893f0>,\n",
       "                                             func_kwargs={'period': 12},\n",
       "                                             new_column_name='month_cos')),\n",
       "                   ('one_hot_categorical_column',\n",
       "                    ColumsOneHotEncoder(categorical_column_names=['hour',\n",
       "                                                                  'month'])),\n",
       "                   ('drop_columns',\n",
       "                    ColumnsRemover(column_names=['date', 'hour', 'datetime'])),\n",
       "                   ['model', Ridge(alpha=0.32906564010654027)]]),\n",
       "   0.18595037755715266),\n",
       "  (Pipeline(steps=[('select_optimal_temperature_columns',\n",
       "                    OptimalTemperatureSelector(optimal_temperature_column_names_path=PosixPath('/home/aroge/projects/electricity-demand-forecast/models/features/optimal_temperature_columns.pkl'),\n",
       "                                               temperature_column_names_path=PosixPath('/home/aroge/projects/electricity-demand-forecast/models/features/temperature_col...\n",
       "                                             new_column_name='is_holiday')),\n",
       "                   ('create_hour_col',\n",
       "                    DerivedColumnTransformer(column_name='datetime',\n",
       "                                             derive_func=<function get_hour at 0x7f21d638b880>,\n",
       "                                             new_column_name='hour')),\n",
       "                   ('one_hot_categorical_column',\n",
       "                    ColumsOneHotEncoder(categorical_column_names=['hour',\n",
       "                                                                  'month'])),\n",
       "                   ('drop_columns',\n",
       "                    ColumnsRemover(column_names=['date', 'hour', 'datetime'])),\n",
       "                   ['model', Ridge(alpha=4.186820519560398)]]),\n",
       "   0.09940206510985697),\n",
       "  (Pipeline(steps=[('select_optimal_temperature_columns',\n",
       "                    OptimalTemperatureSelector(optimal_temperature_column_names_path=PosixPath('/home/aroge/projects/electricity-demand-forecast/models/features/optimal_temperature_columns.pkl'),\n",
       "                                               temperature_column_names_path=PosixPath('/home/aroge/projects/electricity-demand-forecast/models/features/temperature_col...\n",
       "                    MultiColumnTransformer(column_names=['month_season', 'hour'],\n",
       "                                           derive_func=<function multiply_columns at 0x7f21d638a680>,\n",
       "                                           new_column_name='month_season_hour')),\n",
       "                   ('one_hot_categorical_column',\n",
       "                    ColumsOneHotEncoder(categorical_column_names=['hour',\n",
       "                                                                  'month'])),\n",
       "                   ('drop_columns',\n",
       "                    ColumnsRemover(column_names=['date', 'hour', 'datetime'])),\n",
       "                   ['model', Ridge(alpha=4.635027114217761)]]),\n",
       "   0.10149250764273475),\n",
       "  (Pipeline(steps=[('select_optimal_temperature_columns',\n",
       "                    OptimalTemperatureSelector(optimal_temperature_column_names_path=PosixPath('/home/aroge/projects/electricity-demand-forecast/models/features/optimal_temperature_columns.pkl'),\n",
       "                                               temperature_column_names_path=PosixPath('/home/aroge/projects/electricity-demand-forecast/models/features/temperature_col...\n",
       "                                           new_column_name='temp_month')),\n",
       "                   ('create_trend',\n",
       "                    DerivedColumnTransformer(column_name='datetime',\n",
       "                                             derive_func=<function trend at 0x7f21d638a830>,\n",
       "                                             new_column_name='trend')),\n",
       "                   ('one_hot_categorical_column',\n",
       "                    ColumsOneHotEncoder(categorical_column_names=['hour',\n",
       "                                                                  'month'])),\n",
       "                   ('drop_columns',\n",
       "                    ColumnsRemover(column_names=['date', 'hour', 'datetime'])),\n",
       "                   ['model', Ridge(alpha=3.8495167510140016)]]),\n",
       "   0.08923665864048742),\n",
       "  (Pipeline(steps=[('select_optimal_temperature_columns',\n",
       "                    OptimalTemperatureSelector(optimal_temperature_column_names_path=PosixPath('/home/aroge/projects/electricity-demand-forecast/models/features/optimal_temperature_columns.pkl'),\n",
       "                                               temperature_column_names_path=PosixPath('/home/aroge/projects/electricity-demand-forecast/models/features/temperature_col...\n",
       "                                             new_column_name='is_holiday')),\n",
       "                   ('create_hour_col',\n",
       "                    DerivedColumnTransformer(column_name='datetime',\n",
       "                                             derive_func=<function get_hour at 0x7f21d638b880>,\n",
       "                                             new_column_name='hour')),\n",
       "                   ('one_hot_categorical_column',\n",
       "                    ColumsOneHotEncoder(categorical_column_names=['hour',\n",
       "                                                                  'month'])),\n",
       "                   ('drop_columns',\n",
       "                    ColumnsRemover(column_names=['date', 'hour', 'datetime'])),\n",
       "                   ['model', Ridge(alpha=1.3164710541659694)]]),\n",
       "   0.18585412526361272)]}"
      ]
     },
     "execution_count": 167,
     "metadata": {},
     "output_type": "execute_result"
    }
   ],
   "source": [
    "exp_s = list(experiments.keys())\n",
    "models_scores = {}\n",
    "for model_name in model_names:\n",
    "    models_scores[model_name] = []\n",
    "    for exp in exp_s:\n",
    "        exp_model_scores = experiments[exp]\n",
    "        models_scores[model_name].append(exp_model_scores[model_name])\n",
    "\n",
    "models_scores"
   ]
  },
  {
   "cell_type": "code",
   "execution_count": 168,
   "metadata": {},
   "outputs": [
    {
     "data": {
      "image/png": "[encoded data removed]",
      "text/plain": [
       "<Figure size 640x480 with 1 Axes>"
      ]
     },
     "metadata": {},
     "output_type": "display_data"
    }
   ],
   "source": [
    "import matplotlib.pyplot as plt\n",
    "import numpy as np\n",
    "\n",
    "species = exp_s\n",
    "penguin_means = models_scores\n",
    "\n",
    "x = np.arange(len(species))  # the label locations\n",
    "width = 0.25  # the width of the bars\n",
    "multiplier = 0\n",
    "\n",
    "fig, ax = plt.subplots(layout='constrained')\n",
    "\n",
    "for model_name, model_scores in penguin_means.items():\n",
    "    scores = [model_score[1] for model_score in model_scores]\n",
    "    offset = width * multiplier\n",
    "    rects = ax.bar(x + offset, scores, width, label=model_name)\n",
    "    # ax.bar_label(rects, padding=3)\n",
    "    multiplier += 1\n",
    "\n",
    "# Add some text for labels, title and custom x-axis tick labels, etc.\n",
    "ax.set_ylabel('Length (mm)')\n",
    "ax.set_title('Penguin attributes by species')\n",
    "ax.set_xticks(x + width, species)\n",
    "ax.legend(loc='upper left', ncols=3)\n",
    "# ax.set_ylim(0, 250)\n",
    "ax.tick_params(axis='x', labelrotation=45)\n",
    "plt.show()"
   ]
  },
  {
   "cell_type": "code",
   "execution_count": 169,
   "metadata": {},
   "outputs": [
    {
     "data": {
      "text/plain": [
       "{'linear_model': [(Pipeline(steps=[('select_optimal_temperature_columns',\n",
       "                    OptimalTemperatureSelector(optimal_temperature_column_names_path=PosixPath('/home/aroge/projects/electricity-demand-forecast/models/features/optimal_temperature_columns.pkl'),\n",
       "                                               temperature_column_names_path=PosixPath('/home/aroge/projects/electricity-demand-forecast/models/features/temperature_col...\n",
       "                                             new_column_name='is_holiday')),\n",
       "                   ('create_hour_col',\n",
       "                    DerivedColumnTransformer(column_name='datetime',\n",
       "                                             derive_func=<function get_hour at 0x7f21d638b880>,\n",
       "                                             new_column_name='hour')),\n",
       "                   ('one_hot_categorical_column',\n",
       "                    ColumsOneHotEncoder(categorical_column_names=['hour',\n",
       "                                                                  'month'])),\n",
       "                   ('drop_columns',\n",
       "                    ColumnsRemover(column_names=['date', 'hour', 'datetime'])),\n",
       "                   ['model', Ridge(alpha=2.811007492269272)]]),\n",
       "   0.18573981018695263),\n",
       "  (Pipeline(steps=[('select_optimal_temperature_columns',\n",
       "                    OptimalTemperatureSelector(optimal_temperature_column_names_path=PosixPath('/home/aroge/projects/electricity-demand-forecast/models/features/optimal_temperature_columns.pkl'),\n",
       "                                               temperature_column_names_path=PosixPath('/home/aroge/projects/electricity-demand-forecast/models/features/temperature_col...\n",
       "                    DerivedColumnTransformer(column_name='month',\n",
       "                                             derive_func=<function time_cos_transform at 0x7f21d63893f0>,\n",
       "                                             func_kwargs={'period': 12},\n",
       "                                             new_column_name='month_cos')),\n",
       "                   ('one_hot_categorical_column',\n",
       "                    ColumsOneHotEncoder(categorical_column_names=['hour',\n",
       "                                                                  'month'])),\n",
       "                   ('drop_columns',\n",
       "                    ColumnsRemover(column_names=['date', 'hour', 'datetime'])),\n",
       "                   ['model', Ridge(alpha=0.32906564010654027)]]),\n",
       "   0.18595037755715266),\n",
       "  (Pipeline(steps=[('select_optimal_temperature_columns',\n",
       "                    OptimalTemperatureSelector(optimal_temperature_column_names_path=PosixPath('/home/aroge/projects/electricity-demand-forecast/models/features/optimal_temperature_columns.pkl'),\n",
       "                                               temperature_column_names_path=PosixPath('/home/aroge/projects/electricity-demand-forecast/models/features/temperature_col...\n",
       "                                             new_column_name='is_holiday')),\n",
       "                   ('create_hour_col',\n",
       "                    DerivedColumnTransformer(column_name='datetime',\n",
       "                                             derive_func=<function get_hour at 0x7f21d638b880>,\n",
       "                                             new_column_name='hour')),\n",
       "                   ('one_hot_categorical_column',\n",
       "                    ColumsOneHotEncoder(categorical_column_names=['hour',\n",
       "                                                                  'month'])),\n",
       "                   ('drop_columns',\n",
       "                    ColumnsRemover(column_names=['date', 'hour', 'datetime'])),\n",
       "                   ['model', Ridge(alpha=4.186820519560398)]]),\n",
       "   0.09940206510985697),\n",
       "  (Pipeline(steps=[('select_optimal_temperature_columns',\n",
       "                    OptimalTemperatureSelector(optimal_temperature_column_names_path=PosixPath('/home/aroge/projects/electricity-demand-forecast/models/features/optimal_temperature_columns.pkl'),\n",
       "                                               temperature_column_names_path=PosixPath('/home/aroge/projects/electricity-demand-forecast/models/features/temperature_col...\n",
       "                    MultiColumnTransformer(column_names=['month_season', 'hour'],\n",
       "                                           derive_func=<function multiply_columns at 0x7f21d638a680>,\n",
       "                                           new_column_name='month_season_hour')),\n",
       "                   ('one_hot_categorical_column',\n",
       "                    ColumsOneHotEncoder(categorical_column_names=['hour',\n",
       "                                                                  'month'])),\n",
       "                   ('drop_columns',\n",
       "                    ColumnsRemover(column_names=['date', 'hour', 'datetime'])),\n",
       "                   ['model', Ridge(alpha=4.635027114217761)]]),\n",
       "   0.10149250764273475),\n",
       "  (Pipeline(steps=[('select_optimal_temperature_columns',\n",
       "                    OptimalTemperatureSelector(optimal_temperature_column_names_path=PosixPath('/home/aroge/projects/electricity-demand-forecast/models/features/optimal_temperature_columns.pkl'),\n",
       "                                               temperature_column_names_path=PosixPath('/home/aroge/projects/electricity-demand-forecast/models/features/temperature_col...\n",
       "                                           new_column_name='temp_month')),\n",
       "                   ('create_trend',\n",
       "                    DerivedColumnTransformer(column_name='datetime',\n",
       "                                             derive_func=<function trend at 0x7f21d638a830>,\n",
       "                                             new_column_name='trend')),\n",
       "                   ('one_hot_categorical_column',\n",
       "                    ColumsOneHotEncoder(categorical_column_names=['hour',\n",
       "                                                                  'month'])),\n",
       "                   ('drop_columns',\n",
       "                    ColumnsRemover(column_names=['date', 'hour', 'datetime'])),\n",
       "                   ['model', Ridge(alpha=3.8495167510140016)]]),\n",
       "   0.08923665864048742),\n",
       "  (Pipeline(steps=[('select_optimal_temperature_columns',\n",
       "                    OptimalTemperatureSelector(optimal_temperature_column_names_path=PosixPath('/home/aroge/projects/electricity-demand-forecast/models/features/optimal_temperature_columns.pkl'),\n",
       "                                               temperature_column_names_path=PosixPath('/home/aroge/projects/electricity-demand-forecast/models/features/temperature_col...\n",
       "                                             new_column_name='is_holiday')),\n",
       "                   ('create_hour_col',\n",
       "                    DerivedColumnTransformer(column_name='datetime',\n",
       "                                             derive_func=<function get_hour at 0x7f21d638b880>,\n",
       "                                             new_column_name='hour')),\n",
       "                   ('one_hot_categorical_column',\n",
       "                    ColumsOneHotEncoder(categorical_column_names=['hour',\n",
       "                                                                  'month'])),\n",
       "                   ('drop_columns',\n",
       "                    ColumnsRemover(column_names=['date', 'hour', 'datetime'])),\n",
       "                   ['model', Ridge(alpha=1.3164710541659694)]]),\n",
       "   0.18585412526361272)]}"
      ]
     },
     "execution_count": 169,
     "metadata": {},
     "output_type": "execute_result"
    }
   ],
   "source": [
    "exp_s = list(experiments.keys())\n",
    "models_scores = {}\n",
    "for model_name in model_names:\n",
    "    models_scores[model_name] = []\n",
    "    for exp in exp_s:\n",
    "        exp_model_scores = experiments[exp]\n",
    "        models_scores[model_name].append(exp_model_scores[model_name])\n",
    "models_scores"
   ]
  },
  {
   "cell_type": "code",
   "execution_count": 170,
   "metadata": {},
   "outputs": [
    {
     "data": {
      "text/plain": [
       "{'linear_model': (Pipeline(steps=[('select_optimal_temperature_columns',\n",
       "                   OptimalTemperatureSelector(optimal_temperature_column_names_path=PosixPath('/home/aroge/projects/electricity-demand-forecast/models/features/optimal_temperature_columns.pkl'),\n",
       "                                              temperature_column_names_path=PosixPath('/home/aroge/projects/electricity-demand-forecast/models/features/temperature_col...\n",
       "                                          new_column_name='temp_month')),\n",
       "                  ('create_trend',\n",
       "                   DerivedColumnTransformer(column_name='datetime',\n",
       "                                            derive_func=<function trend at 0x7f21d638a830>,\n",
       "                                            new_column_name='trend')),\n",
       "                  ('one_hot_categorical_column',\n",
       "                   ColumsOneHotEncoder(categorical_column_names=['hour',\n",
       "                                                                 'month'])),\n",
       "                  ('drop_columns',\n",
       "                   ColumnsRemover(column_names=['date', 'hour', 'datetime'])),\n",
       "                  ['model', Ridge(alpha=3.8495167510140016)]]),\n",
       "  0.08923665864048742)}"
      ]
     },
     "execution_count": 170,
     "metadata": {},
     "output_type": "execute_result"
    }
   ],
   "source": [
    "models_best = {}\n",
    "for model_name in model_names:\n",
    "    model_scores = models_scores[model_name]\n",
    "    scores = [model_score[1] for model_score in model_scores]\n",
    "    models = [model_score[0] for model_score in model_scores]\n",
    "    best_score = np.min(scores)\n",
    "    best_model = models[np.argmin(scores)]\n",
    "    models_best[model_name] = (best_model, best_score)\n",
    "models_best"
   ]
  },
  {
   "cell_type": "markdown",
   "metadata": {},
   "source": [
    "## Evaluation\n",
    "\n",
    "\n",
    "\n"
   ]
  },
  {
   "cell_type": "code",
   "execution_count": 171,
   "metadata": {},
   "outputs": [
    {
     "name": "stdout",
     "output_type": "stream",
     "text": [
      "transform\n"
     ]
    },
    {
     "data": {
      "image/png": "[encoded data removed]",
      "text/plain": [
       "<Figure size 640x480 with 1 Axes>"
      ]
     },
     "metadata": {},
     "output_type": "display_data"
    }
   ],
   "source": [
    "import pandas as pd\n",
    "from src.preprocessing import preprocessing as prep\n",
    "from src.inference import inference as inf\n",
    "from src import utils\n",
    "\n",
    "proj_root = utils.get_proj_root()\n",
    "\n",
    "config = utils.get_config('config/config.ini')\n",
    "\n",
    "# model_name = 'linear_model'\n",
    "\n",
    "\n",
    "raw_temperature_data_path = utils.get_full_path(config['data_paths']['raw_temp_data'])\n",
    "raw_temperature_data = pd.read_csv(raw_temperature_data_path, parse_dates=[0])\n",
    "preprocessed_temperature_data = prep.TempDataPreprocessor().fit(raw_temperature_data).transform(raw_temperature_data)\n",
    "inf_year = 2008\n",
    "preprocessed_temperature_data = preprocessed_temperature_data[preprocessed_temperature_data.datetime.dt.year >= inf_year]\n",
    "preprocessed_temperature_data = preprocessed_temperature_data.iloc[1:, :]  # includes first date not in eval\n",
    "future_dates = preprocessed_temperature_data.datetime #+ p.to_timedelta(preprocessed_temperature_data.datetime.dt.hour, unit='h')\n",
    "\n",
    "\n",
    "\n",
    "eval_data_path = config['data_paths']['evaluation_data']\n",
    "actual_load = pd.read_csv(proj_root.joinpath(eval_data_path), parse_dates=[0])\n",
    "actual_load = prep.LoadDataPreprocessor().fit(actual_load).transform(actual_load)\n",
    "\n",
    "fig, ax = plt.subplots()\n",
    "n_pts = 700\n",
    "actual_load[:n_pts].plot(x='datetime', y='load', ax=ax, alpha=0.5, label=\"actual_load\")\n",
    "for i, model_name in enumerate(model_names):\n",
    "    model, score = models_best[model_name]\n",
    "    # model = inf.load_model(model_name=model_name)\n",
    "    predicted_load = model.predict(preprocessed_temperature_data)\n",
    "\n",
    "    prediction_data = pd.DataFrame({'datetime':future_dates, 'predicted_load':predicted_load})\n",
    "# prediction_data.set_index('datetime', inplace=True)\n",
    "    \n",
    "    # if model_name == 'linear_model':\n",
    "    #     continue\n",
    "    \n",
    "    prediction_data[:n_pts].plot(x='datetime', y='predicted_load', ls='-', ax=ax, alpha=1, label=f'{model_name} (score:{score:.3f})')"
   ]
  },
  {
   "cell_type": "code",
   "execution_count": 172,
   "metadata": {},
   "outputs": [
    {
     "data": {
      "text/html": [
       "<div>\n",
       "<style scoped>\n",
       "    .dataframe tbody tr th:only-of-type {\n",
       "        vertical-align: middle;\n",
       "    }\n",
       "\n",
       "    .dataframe tbody tr th {\n",
       "        vertical-align: top;\n",
       "    }\n",
       "\n",
       "    .dataframe thead th {\n",
       "        text-align: right;\n",
       "    }\n",
       "</style>\n",
       "<table border=\"1\" class=\"dataframe\">\n",
       "  <thead>\n",
       "    <tr style=\"text-align: right;\">\n",
       "      <th></th>\n",
       "      <th>load</th>\n",
       "      <th>datetime</th>\n",
       "      <th>t1</th>\n",
       "      <th>t2</th>\n",
       "      <th>t3</th>\n",
       "      <th>t4</th>\n",
       "      <th>t5</th>\n",
       "      <th>t6</th>\n",
       "      <th>t7</th>\n",
       "      <th>t8</th>\n",
       "      <th>...</th>\n",
       "      <th>t19</th>\n",
       "      <th>t20</th>\n",
       "      <th>t21</th>\n",
       "      <th>t22</th>\n",
       "      <th>t23</th>\n",
       "      <th>t24</th>\n",
       "      <th>t25</th>\n",
       "      <th>t26</th>\n",
       "      <th>t27</th>\n",
       "      <th>t28</th>\n",
       "    </tr>\n",
       "  </thead>\n",
       "  <tbody>\n",
       "    <tr>\n",
       "      <th>0</th>\n",
       "      <td>156.545</td>\n",
       "      <td>2005-01-01 01:00:00</td>\n",
       "      <td>43.0</td>\n",
       "      <td>46.0</td>\n",
       "      <td>40.0</td>\n",
       "      <td>47.0</td>\n",
       "      <td>48.0</td>\n",
       "      <td>46.0</td>\n",
       "      <td>44.0</td>\n",
       "      <td>52.0</td>\n",
       "      <td>...</td>\n",
       "      <td>39.0</td>\n",
       "      <td>50.0</td>\n",
       "      <td>43.0</td>\n",
       "      <td>45.0</td>\n",
       "      <td>50.0</td>\n",
       "      <td>47.0</td>\n",
       "      <td>41.0</td>\n",
       "      <td>47.0</td>\n",
       "      <td>47.0</td>\n",
       "      <td>45.0</td>\n",
       "    </tr>\n",
       "    <tr>\n",
       "      <th>1</th>\n",
       "      <td>147.924</td>\n",
       "      <td>2005-01-01 02:00:00</td>\n",
       "      <td>41.0</td>\n",
       "      <td>46.0</td>\n",
       "      <td>38.0</td>\n",
       "      <td>46.0</td>\n",
       "      <td>48.0</td>\n",
       "      <td>45.0</td>\n",
       "      <td>51.0</td>\n",
       "      <td>50.0</td>\n",
       "      <td>...</td>\n",
       "      <td>41.0</td>\n",
       "      <td>49.0</td>\n",
       "      <td>43.0</td>\n",
       "      <td>46.0</td>\n",
       "      <td>47.0</td>\n",
       "      <td>47.0</td>\n",
       "      <td>45.0</td>\n",
       "      <td>47.0</td>\n",
       "      <td>47.0</td>\n",
       "      <td>45.0</td>\n",
       "    </tr>\n",
       "  </tbody>\n",
       "</table>\n",
       "<p>2 rows × 30 columns</p>\n",
       "</div>"
      ],
      "text/plain": [
       "      load            datetime    t1    t2    t3    t4    t5    t6    t7  \\\n",
       "0  156.545 2005-01-01 01:00:00  43.0  46.0  40.0  47.0  48.0  46.0  44.0   \n",
       "1  147.924 2005-01-01 02:00:00  41.0  46.0  38.0  46.0  48.0  45.0  51.0   \n",
       "\n",
       "     t8  ...   t19   t20   t21   t22   t23   t24   t25   t26   t27   t28  \n",
       "0  52.0  ...  39.0  50.0  43.0  45.0  50.0  47.0  41.0  47.0  47.0  45.0  \n",
       "1  50.0  ...  41.0  49.0  43.0  46.0  47.0  47.0  45.0  47.0  47.0  45.0  \n",
       "\n",
       "[2 rows x 30 columns]"
      ]
     },
     "execution_count": 172,
     "metadata": {},
     "output_type": "execute_result"
    }
   ],
   "source": [
    "from src.modelling import training\n",
    "\n",
    "proj_root = utils.get_proj_root()\n",
    "config = utils.get_config('config/config.ini')\n",
    "preprocessed_data_path = proj_root.joinpath(config['data_paths']['preprocessed_data'])\n",
    "preprocessed_data = training.get_training_data(file_path=preprocessed_data_path)\n",
    "preprocessed_data.head(2)\n"
   ]
  }
 ],
 "metadata": {
  "kernelspec": {
   "display_name": ".venv",
   "language": "python",
   "name": "python3"
  },
  "language_info": {
   "codemirror_mode": {
    "name": "ipython",
    "version": 3
   },
   "file_extension": ".py",
   "mimetype": "text/x-python",
   "name": "python",
   "nbconvert_exporter": "python",
   "pygments_lexer": "ipython3",
   "version": "3.10.13"
  }
 },
 "nbformat": 4,
 "nbformat_minor": 2
}
