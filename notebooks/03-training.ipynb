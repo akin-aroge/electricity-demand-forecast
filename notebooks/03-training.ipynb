{
 "cells": [
  {
   "cell_type": "markdown",
   "metadata": {},
   "source": [
    "# Training\n",
    "\n",
    "Test different pipeline primarily using the linear model response to feature engineering efforts."
   ]
  },
  {
   "cell_type": "code",
   "execution_count": 1,
   "metadata": {},
   "outputs": [],
   "source": [
    "\n",
    "import logging\n",
    "from sklearn.pipeline import Pipeline\n",
    "from sklearn.model_selection import train_test_split\n",
    "\n",
    "from src import utils\n",
    "from src.modelling import transforms\n",
    "from src.modelling import training\n",
    "import numpy as np\n",
    "\n",
    "%load_ext autoreload\n",
    "%autoreload 2"
   ]
  },
  {
   "cell_type": "code",
   "execution_count": 2,
   "metadata": {},
   "outputs": [],
   "source": [
    "experiments = {}\n",
    "model_names = ['linear_model', 'xgboost']\n",
    "n_tuning_trials = 3\n",
    "test_size = 0.01"
   ]
  },
  {
   "cell_type": "markdown",
   "metadata": {},
   "source": [
    "## Baseline"
   ]
  },
  {
   "cell_type": "code",
   "execution_count": 3,
   "metadata": {},
   "outputs": [
    {
     "name": "stderr",
     "output_type": "stream",
     "text": [
      "[I 2024-06-04 14:15:35,219] A new study created in memory with name: no-name-8df97d89-02fa-4b0d-a80e-67f5fe6f182c\n",
      "[I 2024-06-04 14:15:35,619] Trial 0 finished with value: -0.22775005031517664 and parameters: {'alpha': 0.1364003312843786}. Best is trial 0 with value: -0.22775005031517664.\n"
     ]
    },
    {
     "name": "stdout",
     "output_type": "stream",
     "text": [
      "Trial 0, alpha: 0.1364003312843786,  mape: 0.22775005031517664\n"
     ]
    },
    {
     "name": "stderr",
     "output_type": "stream",
     "text": [
      "[I 2024-06-04 14:15:36,041] Trial 1 finished with value: -0.22736444298518327 and parameters: {'alpha': 1.3135702945145085}. Best is trial 1 with value: -0.22736444298518327.\n"
     ]
    },
    {
     "name": "stdout",
     "output_type": "stream",
     "text": [
      "Trial 1, alpha: 1.3135702945145085,  mape: 0.22736444298518327\n"
     ]
    },
    {
     "name": "stderr",
     "output_type": "stream",
     "text": [
      "[I 2024-06-04 14:15:36,453] Trial 2 finished with value: -0.2277057042531478 and parameters: {'alpha': 0.26988712770578543}. Best is trial 1 with value: -0.22736444298518327.\n"
     ]
    },
    {
     "name": "stdout",
     "output_type": "stream",
     "text": [
      "Trial 2, alpha: 0.26988712770578543,  mape: 0.2277057042531478\n",
      "best score is: -0.22736444298518327\n",
      "test score:0.11029629101438387\n",
      "test score:0.11029629101438387\n"
     ]
    },
    {
     "name": "stderr",
     "output_type": "stream",
     "text": [
      "[I 2024-06-04 14:15:36,713] A new study created in memory with name: no-name-1f5efbcf-19c3-4923-ae50-a1a747a2f56d\n",
      "[I 2024-06-04 14:15:43,910] Trial 0 finished with value: -0.13330183717077546 and parameters: {'n_estimators': 109, 'max_depth': 50, 'learning_rate': 0.00803203409411526, 'min_child_weight': 10, 'subsample': 0.6858157949422834, 'gamma': 0.8743142839836295, 'reg_alpha': 0.23693984834398074, 'reg_lambda': 0.22852979343829316}. Best is trial 0 with value: -0.13330183717077546.\n"
     ]
    },
    {
     "name": "stdout",
     "output_type": "stream",
     "text": [
      "Trial 0, n_estimators: 109, max_depth: 50, learning_rate: 0.00803203409411526,min_child_weight: 10, subsample: 0.6858157949422834 gamma: 0.8743142839836295, reg_alpha: 0.23693984834398074, reg_lambda: 0.22852979343829316, mape: 0.13330183717077546\n"
     ]
    },
    {
     "name": "stderr",
     "output_type": "stream",
     "text": [
      "[I 2024-06-04 14:15:45,171] Trial 1 finished with value: -0.2236798540700594 and parameters: {'n_estimators': 67, 'max_depth': 9, 'learning_rate': 0.003360653477421308, 'min_child_weight': 3, 'subsample': 0.7845973988027387, 'gamma': 0.6362465279114764, 'reg_alpha': 0.034039722751642354, 'reg_lambda': 0.414343142383643}. Best is trial 0 with value: -0.13330183717077546.\n"
     ]
    },
    {
     "name": "stdout",
     "output_type": "stream",
     "text": [
      "Trial 1, n_estimators: 67, max_depth: 9, learning_rate: 0.003360653477421308,min_child_weight: 3, subsample: 0.7845973988027387 gamma: 0.6362465279114764, reg_alpha: 0.034039722751642354, reg_lambda: 0.414343142383643, mape: 0.2236798540700594\n"
     ]
    },
    {
     "name": "stderr",
     "output_type": "stream",
     "text": [
      "[I 2024-06-04 14:15:47,314] Trial 2 finished with value: -0.2507441125517521 and parameters: {'n_estimators': 41, 'max_depth': 24, 'learning_rate': 0.0014581888044533056, 'min_child_weight': 5, 'subsample': 0.5261350225536545, 'gamma': 0.4373634875395003, 'reg_alpha': 0.795388735291751, 'reg_lambda': 0.8892583658484765}. Best is trial 0 with value: -0.13330183717077546.\n"
     ]
    },
    {
     "name": "stdout",
     "output_type": "stream",
     "text": [
      "Trial 2, n_estimators: 41, max_depth: 24, learning_rate: 0.0014581888044533056,min_child_weight: 5, subsample: 0.5261350225536545 gamma: 0.4373634875395003, reg_alpha: 0.795388735291751, reg_lambda: 0.8892583658484765, mape: 0.2507441125517521\n",
      "best score is: -0.13330183717077546\n",
      "test score:0.09573206573635225\n",
      "test score:0.09573206573635225\n"
     ]
    }
   ],
   "source": [
    "experiment_name = 'baseline'\n",
    "proj_root = utils.get_proj_root()\n",
    "\n",
    "config = utils.get_config('config/config.ini')\n",
    "\n",
    "def make_pipeline():\n",
    "\n",
    "    categorical_column_names = ['hour', 'month']\n",
    "    columns_to_drop = ['date', 'hour', 'datetime']\n",
    "\n",
    "    temperature_column_names_path = proj_root.joinpath(config['modelling_paths']['temperature_columns'])\n",
    "    optimal_temperature_column_names_path = proj_root.joinpath(config['modelling_paths']['optimal_temperature_columns'])\n",
    "\n",
    "    \n",
    "\n",
    "    pipeline = Pipeline(\n",
    "            steps=[\n",
    "                (\"select_optimal_temperature_columns\", transforms.OptimalTemperatureSelector(\n",
    "                    temperature_column_names_path=temperature_column_names_path,\n",
    "                    optimal_temperature_column_names_path=optimal_temperature_column_names_path)  \n",
    "                ),\n",
    "                (\"create_weekend_col\", transforms.DerivedColumnTransformer(column_name='datetime', \n",
    "                                                            new_column_name='is_weekend', \n",
    "                                                            derive_func=transforms.is_weekend)\n",
    "                                                            ),\n",
    "                (\"create_month_col\", transforms.DerivedColumnTransformer(column_name='datetime', \n",
    "                                                            new_column_name='month', \n",
    "                                                            derive_func=transforms.get_month)\n",
    "                                                            ),\n",
    "                (\"create_holiday_col\",transforms.DerivedColumnTransformer(column_name='datetime', \n",
    "                                                            new_column_name='is_holiday', \n",
    "                                                            derive_func=transforms.is_holiday)\n",
    "                                                            ),\n",
    "                (\"create_hour_col\",transforms.DerivedColumnTransformer(column_name='datetime', \n",
    "                                                            new_column_name='hour', \n",
    "                                                            derive_func=transforms.get_hour)\n",
    "                                                            ),\n",
    "                (\"one_hot_categorical_column\", transforms.ColumsOneHotEncoder(categorical_column_names=categorical_column_names)),\n",
    "                ('drop_columns', transforms.ColumnsRemover(column_names=columns_to_drop)),\n",
    "\n",
    "\n",
    "            ]\n",
    "        )\n",
    "    return pipeline\n",
    "\n",
    "def main(model_name:str, pipeline, n_tuning_trials=1):\n",
    "    logger = logging.getLogger(__name__)\n",
    "    proj_root = utils.get_proj_root()\n",
    "\n",
    "    config = utils.get_config('config/config.ini')\n",
    "\n",
    "    model_output_dir = proj_root.joinpath(config[\"modelling_paths\"][\"model_output\"])\n",
    "    preprocessed_data_path = proj_root.joinpath(config['data_paths']['preprocessed_data'])\n",
    "\n",
    "    label_col_name = 'load'\n",
    "    model_params = config._sections[model_name]\n",
    "    model_class = training.get_model_class(model_name=model_name)\n",
    "    model = model_class(**model_params)\n",
    "\n",
    "\n",
    "\n",
    "    preprocessed_data = training.get_training_data(file_path=preprocessed_data_path)\n",
    "    training_data, testing_data = train_test_split(preprocessed_data, test_size=test_size, shuffle=False)\n",
    "\n",
    "\n",
    "\n",
    "    model_output_path = model_output_dir.joinpath(model_name + \".pkl\")\n",
    "    trainer = training.ModelTrainer(\n",
    "        model_class=model,\n",
    "        transform_pipeline=pipeline,\n",
    "        training_data=training_data,\n",
    "        testing_data=testing_data,\n",
    "        label_col_name=label_col_name,\n",
    "        model_output_path=model_output_path\n",
    "    )\n",
    "\n",
    "    logger.info(\"==============tuning started=============\")\n",
    "    trainer.tune_model(n_trials=n_tuning_trials)\n",
    "    # logger.info('tuning completed')\n",
    "    logger.info(\"==============training started====================\")\n",
    "    model = trainer.train_model(save_model=True)\n",
    "    logger.info(\"==========training completed===============\")\n",
    "    logger.info(\"==========evaluation===============\")\n",
    "    score = trainer.evaluate_model()\n",
    "    print(f\"test score:{score}\")\n",
    "    logger.info(f\"test score:{score}\")\n",
    "    score = trainer.inf_model()\n",
    "    print(f\"test score:{score}\")\n",
    "    logger.info(f\"inf score:{score}\")\n",
    "    logger.info(\"==========evaluation completed===============\")\n",
    "\n",
    "    return model, score\n",
    "\n",
    "model_results = {}\n",
    "\n",
    "for model_name in model_names:\n",
    "\n",
    "    pipeline = make_pipeline()\n",
    "    model, score = main(model_name=model_name, pipeline=pipeline, n_tuning_trials=n_tuning_trials)\n",
    "    model_results[model_name] = model, score\n",
    "\n",
    "experiments[experiment_name] = model_results\n"
   ]
  },
  {
   "cell_type": "markdown",
   "metadata": {},
   "source": [
    "## Add higer order temperature"
   ]
  },
  {
   "cell_type": "code",
   "execution_count": 4,
   "metadata": {},
   "outputs": [
    {
     "name": "stderr",
     "output_type": "stream",
     "text": [
      "[I 2024-06-04 14:15:48,994] A new study created in memory with name: no-name-b134e432-3b2b-4271-b1f0-3a323133e586\n"
     ]
    },
    {
     "name": "stdout",
     "output_type": "stream",
     "text": [
      "['t11', 't14', 't20', 't4', 't12', 't16']\n"
     ]
    },
    {
     "name": "stderr",
     "output_type": "stream",
     "text": [
      "[I 2024-06-04 14:15:49,539] Trial 0 finished with value: -0.09517936038070277 and parameters: {'alpha': 2.0441966523305086}. Best is trial 0 with value: -0.09517936038070277.\n"
     ]
    },
    {
     "name": "stdout",
     "output_type": "stream",
     "text": [
      "Trial 0, alpha: 2.0441966523305086,  mape: 0.09517936038070277\n"
     ]
    },
    {
     "name": "stderr",
     "output_type": "stream",
     "text": [
      "[I 2024-06-04 14:15:50,027] Trial 1 finished with value: -0.09518229939648207 and parameters: {'alpha': 0.9502886635392516}. Best is trial 0 with value: -0.09517936038070277.\n"
     ]
    },
    {
     "name": "stdout",
     "output_type": "stream",
     "text": [
      "Trial 1, alpha: 0.9502886635392516,  mape: 0.09518229939648207\n"
     ]
    },
    {
     "name": "stderr",
     "output_type": "stream",
     "text": [
      "[I 2024-06-04 14:15:50,533] Trial 2 finished with value: -0.09518645164701571 and parameters: {'alpha': 0.2198996101425072}. Best is trial 0 with value: -0.09517936038070277.\n"
     ]
    },
    {
     "name": "stdout",
     "output_type": "stream",
     "text": [
      "Trial 2, alpha: 0.2198996101425072,  mape: 0.09518645164701571\n",
      "best score is: -0.09517936038070277\n",
      "test score:0.08493137038241123\n",
      "test score:0.08493137038241123\n",
      "['t11', 't14', 't20', 't4', 't12', 't16']\n"
     ]
    },
    {
     "name": "stderr",
     "output_type": "stream",
     "text": [
      "[I 2024-06-04 14:15:50,818] A new study created in memory with name: no-name-ab16c90b-dd41-4786-9615-64642cd25aa9\n",
      "[I 2024-06-04 14:16:00,573] Trial 0 finished with value: -0.07915206219301471 and parameters: {'n_estimators': 112, 'max_depth': 33, 'learning_rate': 0.04288536175868024, 'min_child_weight': 5, 'subsample': 0.6554895716344628, 'gamma': 0.6478398054817487, 'reg_alpha': 0.5840109089459128, 'reg_lambda': 0.749410681190565}. Best is trial 0 with value: -0.07915206219301471.\n"
     ]
    },
    {
     "name": "stdout",
     "output_type": "stream",
     "text": [
      "Trial 0, n_estimators: 112, max_depth: 33, learning_rate: 0.04288536175868024,min_child_weight: 5, subsample: 0.6554895716344628 gamma: 0.6478398054817487, reg_alpha: 0.5840109089459128, reg_lambda: 0.749410681190565, mape: 0.07915206219301471\n"
     ]
    },
    {
     "name": "stderr",
     "output_type": "stream",
     "text": [
      "[I 2024-06-04 14:16:01,949] Trial 1 finished with value: -0.23879502024959748 and parameters: {'n_estimators': 17, 'max_depth': 19, 'learning_rate': 0.006516693739948062, 'min_child_weight': 5, 'subsample': 0.7479262216124778, 'gamma': 0.09503947621120601, 'reg_alpha': 0.6911594920351875, 'reg_lambda': 0.008335385406266882}. Best is trial 0 with value: -0.07915206219301471.\n"
     ]
    },
    {
     "name": "stdout",
     "output_type": "stream",
     "text": [
      "Trial 1, n_estimators: 17, max_depth: 19, learning_rate: 0.006516693739948062,min_child_weight: 5, subsample: 0.7479262216124778 gamma: 0.09503947621120601, reg_alpha: 0.6911594920351875, reg_lambda: 0.008335385406266882, mape: 0.23879502024959748\n"
     ]
    },
    {
     "name": "stderr",
     "output_type": "stream",
     "text": [
      "[I 2024-06-04 14:16:02,475] Trial 2 finished with value: -0.23820565855995954 and parameters: {'n_estimators': 42, 'max_depth': 3, 'learning_rate': 0.004532225408826302, 'min_child_weight': 8, 'subsample': 0.8644260081123326, 'gamma': 0.7847158300387864, 'reg_alpha': 0.3587612072747598, 'reg_lambda': 0.6831526028387538}. Best is trial 0 with value: -0.07915206219301471.\n"
     ]
    },
    {
     "name": "stdout",
     "output_type": "stream",
     "text": [
      "Trial 2, n_estimators: 42, max_depth: 3, learning_rate: 0.004532225408826302,min_child_weight: 8, subsample: 0.8644260081123326 gamma: 0.7847158300387864, reg_alpha: 0.3587612072747598, reg_lambda: 0.6831526028387538, mape: 0.23820565855995954\n",
      "best score is: -0.07915206219301471\n",
      "test score:0.0766242820146314\n",
      "test score:0.0766242820146314\n"
     ]
    }
   ],
   "source": [
    "\n",
    "experiment_name = 'higher_order_temperature'\n",
    "\n",
    "\n",
    "def make_pipeline():\n",
    "\n",
    "    categorical_column_names = ['hour', 'month']\n",
    "    columns_to_drop = ['date', 'hour', 'datetime', 'mean_temp']\n",
    "\n",
    "    temperature_column_names_path = proj_root.joinpath(config['modelling_paths']['temperature_columns'])\n",
    "    optimal_temperature_column_names_path = proj_root.joinpath(config['modelling_paths']['optimal_temperature_columns'])\n",
    "    optimal_temperature_column_names = utils.load_value(optimal_temperature_column_names_path)\n",
    "    # daily_load_profile_path = proj_root.joinpath(config['modelling_paths']['daily_load_profile_feature'])\n",
    "    print(optimal_temperature_column_names)\n",
    "\n",
    "\n",
    "\n",
    "    pipeline = Pipeline(\n",
    "            steps=[\n",
    "                (\"select_optimal_temperature_columns\", transforms.OptimalTemperatureSelector(\n",
    "                    temperature_column_names_path=temperature_column_names_path,\n",
    "                    optimal_temperature_column_names_path=optimal_temperature_column_names_path)  \n",
    "                ),\n",
    "                (\"create_weekend_col\", transforms.DerivedColumnTransformer(column_name='datetime', \n",
    "                                                            new_column_name='is_weekend', \n",
    "                                                            derive_func=transforms.is_weekend)\n",
    "                                                            ),\n",
    "                (\"create_month_col\", transforms.DerivedColumnTransformer(column_name='datetime', \n",
    "                                                            new_column_name='month', \n",
    "                                                            derive_func=transforms.get_month)\n",
    "                                                            ),\n",
    "                (\"create_holiday_col\",transforms.DerivedColumnTransformer(column_name='datetime', \n",
    "                                                            new_column_name='is_holiday', \n",
    "                                                            derive_func=transforms.is_holiday)\n",
    "                                                            ),\n",
    "                (\"create_hour_col\",transforms.DerivedColumnTransformer(column_name='datetime', \n",
    "                                                            new_column_name='hour', \n",
    "                                                            derive_func=transforms.get_hour)\n",
    "                                                            ),\n",
    "                (\"create_mean_temperature\",transforms.DerivedColumnTransformer(column_name=optimal_temperature_column_names, \n",
    "                                                            new_column_name='mean_temp', \n",
    "                                                            derive_func=np.mean, func_kwargs={'axis':1})\n",
    "                                                            ),\n",
    "                \n",
    "                (\"create_temperature_squared\",transforms.DerivedColumnTransformer(column_name='mean_temp', \n",
    "                                                            new_column_name='temp_sq', \n",
    "                                                            derive_func=np.square)\n",
    "                                                            ),\n",
    "                (\"create_temperature_cube\",transforms.DerivedColumnTransformer(column_name='mean_temp', \n",
    "                                                            new_column_name='temp_cube', \n",
    "                                                            derive_func=transforms.exp_value, func_kwargs={'exp':3})\n",
    "                                                            ),\n",
    "                (\"one_hot_categorical_column\", transforms.ColumsOneHotEncoder(categorical_column_names=categorical_column_names)),\n",
    "                ('drop_columns', transforms.ColumnsRemover(column_names=columns_to_drop)),\n",
    "\n",
    "\n",
    "            ]\n",
    "        )\n",
    "    return pipeline\n",
    "\n",
    "def main(model_name:str, pipeline, n_tuning_trials=1):\n",
    "    logger = logging.getLogger(__name__)\n",
    "    proj_root = utils.get_proj_root()\n",
    "\n",
    "    config = utils.get_config('config/config.ini')\n",
    "\n",
    "    model_output_dir = proj_root.joinpath(config[\"modelling_paths\"][\"model_output\"])\n",
    "    preprocessed_data_path = proj_root.joinpath(config['data_paths']['preprocessed_data'])\n",
    "\n",
    "    label_col_name = 'load'\n",
    "    model_params = config._sections[model_name]\n",
    "    model_class = training.get_model_class(model_name=model_name)\n",
    "    model = model_class(**model_params)\n",
    "\n",
    "\n",
    "\n",
    "    preprocessed_data = training.get_training_data(file_path=preprocessed_data_path)\n",
    "    training_data, testing_data = train_test_split(preprocessed_data, test_size=test_size, shuffle=False)\n",
    "\n",
    "\n",
    "\n",
    "    model_output_path = model_output_dir.joinpath(model_name + \".pkl\")\n",
    "    trainer = training.ModelTrainer(\n",
    "        model_class=model,\n",
    "        transform_pipeline=pipeline,\n",
    "        training_data=training_data,\n",
    "        testing_data=testing_data,\n",
    "        label_col_name=label_col_name,\n",
    "        model_output_path=model_output_path\n",
    "    )\n",
    "\n",
    "    logger.info(\"==============tuning started=============\")\n",
    "    trainer.tune_model(n_trials=n_tuning_trials)\n",
    "    # logger.info('tuning completed')\n",
    "    logger.info(\"==============training started====================\")\n",
    "    model = trainer.train_model(save_model=True)\n",
    "    logger.info(\"==========training completed===============\")\n",
    "    logger.info(\"==========evaluation===============\")\n",
    "    score = trainer.evaluate_model()\n",
    "    print(f\"test score:{score}\")\n",
    "    logger.info(f\"test score:{score}\")\n",
    "    score = trainer.inf_model()\n",
    "    print(f\"test score:{score}\")\n",
    "    logger.info(f\"inf score:{score}\")\n",
    "    logger.info(\"==========evaluation completed===============\")\n",
    "\n",
    "    return model, score\n",
    "\n",
    "model_results = {}\n",
    "\n",
    "for model_name in model_names:\n",
    "\n",
    "    pipeline = make_pipeline()\n",
    "    model, score = main(model_name=model_name, pipeline=pipeline, n_tuning_trials=n_tuning_trials)\n",
    "    model_results[model_name] = model, score\n",
    "\n",
    "experiments[experiment_name] = model_results"
   ]
  },
  {
   "cell_type": "markdown",
   "metadata": {},
   "source": [
    "## Create interactions"
   ]
  },
  {
   "cell_type": "code",
   "execution_count": 5,
   "metadata": {},
   "outputs": [
    {
     "name": "stderr",
     "output_type": "stream",
     "text": [
      "[I 2024-06-04 14:16:05,533] A new study created in memory with name: no-name-1156995a-303d-4e51-97ac-eab2310aa568\n"
     ]
    },
    {
     "name": "stdout",
     "output_type": "stream",
     "text": [
      "['t11', 't14', 't20', 't4', 't12', 't16']\n"
     ]
    },
    {
     "name": "stderr",
     "output_type": "stream",
     "text": [
      "[I 2024-06-04 14:16:06,102] Trial 0 finished with value: -0.10211097835076499 and parameters: {'alpha': 1.8953438322052796}. Best is trial 0 with value: -0.10211097835076499.\n"
     ]
    },
    {
     "name": "stdout",
     "output_type": "stream",
     "text": [
      "Trial 0, alpha: 1.8953438322052796,  mape: 0.10211097835076499\n"
     ]
    },
    {
     "name": "stderr",
     "output_type": "stream",
     "text": [
      "[I 2024-06-04 14:16:06,645] Trial 1 finished with value: -0.10239756836595308 and parameters: {'alpha': 0.1729348178749224}. Best is trial 0 with value: -0.10211097835076499.\n"
     ]
    },
    {
     "name": "stdout",
     "output_type": "stream",
     "text": [
      "Trial 1, alpha: 0.1729348178749224,  mape: 0.10239756836595308\n"
     ]
    },
    {
     "name": "stderr",
     "output_type": "stream",
     "text": [
      "[I 2024-06-04 14:16:07,273] Trial 2 finished with value: -0.10234998788164096 and parameters: {'alpha': 0.4287300472273902}. Best is trial 0 with value: -0.10211097835076499.\n"
     ]
    },
    {
     "name": "stdout",
     "output_type": "stream",
     "text": [
      "Trial 2, alpha: 0.4287300472273902,  mape: 0.10234998788164096\n",
      "best score is: -0.10211097835076499\n",
      "test score:0.08256530800081892\n"
     ]
    },
    {
     "name": "stderr",
     "output_type": "stream",
     "text": [
      "[I 2024-06-04 14:16:07,663] A new study created in memory with name: no-name-32b2a34f-48b8-4dd1-8400-24d99f1717f5\n"
     ]
    },
    {
     "name": "stdout",
     "output_type": "stream",
     "text": [
      "test score:0.08256530800081892\n",
      "['t11', 't14', 't20', 't4', 't12', 't16']\n"
     ]
    },
    {
     "name": "stderr",
     "output_type": "stream",
     "text": [
      "[I 2024-06-04 14:16:12,394] Trial 0 finished with value: -0.20260599802910645 and parameters: {'n_estimators': 94, 'max_depth': 14, 'learning_rate': 0.0035880108349672316, 'min_child_weight': 4, 'subsample': 0.6016361709913735, 'gamma': 0.689749688646242, 'reg_alpha': 0.2443346042935638, 'reg_lambda': 0.4284370252248637}. Best is trial 0 with value: -0.20260599802910645.\n"
     ]
    },
    {
     "name": "stdout",
     "output_type": "stream",
     "text": [
      "Trial 0, n_estimators: 94, max_depth: 14, learning_rate: 0.0035880108349672316,min_child_weight: 4, subsample: 0.6016361709913735 gamma: 0.689749688646242, reg_alpha: 0.2443346042935638, reg_lambda: 0.4284370252248637, mape: 0.20260599802910645\n"
     ]
    },
    {
     "name": "stderr",
     "output_type": "stream",
     "text": [
      "[I 2024-06-04 14:16:12,962] Trial 1 finished with value: -0.17375539616095953 and parameters: {'n_estimators': 44, 'max_depth': 3, 'learning_rate': 0.021085167606983306, 'min_child_weight': 4, 'subsample': 0.8813734542971978, 'gamma': 0.5687963286775326, 'reg_alpha': 0.043330494404463016, 'reg_lambda': 0.18882964214267683}. Best is trial 1 with value: -0.17375539616095953.\n"
     ]
    },
    {
     "name": "stdout",
     "output_type": "stream",
     "text": [
      "Trial 1, n_estimators: 44, max_depth: 3, learning_rate: 0.021085167606983306,min_child_weight: 4, subsample: 0.8813734542971978 gamma: 0.5687963286775326, reg_alpha: 0.043330494404463016, reg_lambda: 0.18882964214267683, mape: 0.17375539616095953\n"
     ]
    },
    {
     "name": "stderr",
     "output_type": "stream",
     "text": [
      "[I 2024-06-04 14:16:18,093] Trial 2 finished with value: -0.1438932873633048 and parameters: {'n_estimators': 48, 'max_depth': 15, 'learning_rate': 0.018198588430313408, 'min_child_weight': 1, 'subsample': 0.9977424387183615, 'gamma': 0.45736602739780396, 'reg_alpha': 0.06977894671530349, 'reg_lambda': 0.9730390241749355}. Best is trial 2 with value: -0.1438932873633048.\n"
     ]
    },
    {
     "name": "stdout",
     "output_type": "stream",
     "text": [
      "Trial 2, n_estimators: 48, max_depth: 15, learning_rate: 0.018198588430313408,min_child_weight: 1, subsample: 0.9977424387183615 gamma: 0.45736602739780396, reg_alpha: 0.06977894671530349, reg_lambda: 0.9730390241749355, mape: 0.1438932873633048\n",
      "best score is: -0.1438932873633048\n",
      "test score:0.09270897382933263\n",
      "test score:0.09270897382933263\n"
     ]
    }
   ],
   "source": [
    "\n",
    "experiment_name = 'model interactions'\n",
    "\n",
    "\n",
    "def make_pipeline():\n",
    "\n",
    "    categorical_column_names = ['hour', 'month']\n",
    "    columns_to_drop = ['date', 'hour', 'datetime', 'mean_temp']\n",
    "\n",
    "    temperature_column_names_path = proj_root.joinpath(config['modelling_paths']['temperature_columns'])\n",
    "    optimal_temperature_column_names_path = proj_root.joinpath(config['modelling_paths']['optimal_temperature_columns'])\n",
    "    optimal_temperature_column_names = utils.load_value(optimal_temperature_column_names_path)\n",
    "    # daily_load_profile_path = proj_root.joinpath(config['modelling_paths']['daily_load_profile_feature'])\n",
    "    print(optimal_temperature_column_names)\n",
    "\n",
    "    daily_load_profile_path = proj_root.joinpath(\n",
    "        config[\"modelling_paths\"][\"daily_load_profile_feature\"]\n",
    "    )\n",
    "\n",
    "\n",
    "    pipeline = Pipeline(\n",
    "            steps=[\n",
    "                (\"select_optimal_temperature_columns\", transforms.OptimalTemperatureSelector(\n",
    "                    temperature_column_names_path=temperature_column_names_path,\n",
    "                    optimal_temperature_column_names_path=optimal_temperature_column_names_path)  \n",
    "                ),\n",
    "                (\"create_weekend_col\", transforms.DerivedColumnTransformer(column_name='datetime', \n",
    "                                                            new_column_name='is_weekend', \n",
    "                                                            derive_func=transforms.is_weekend)\n",
    "                                                            ),\n",
    "                (\"create_month_col\", transforms.DerivedColumnTransformer(column_name='datetime', \n",
    "                                                            new_column_name='month', \n",
    "                                                            derive_func=transforms.get_month)\n",
    "                                                            ),\n",
    "                (\"create_holiday_col\",transforms.DerivedColumnTransformer(column_name='datetime', \n",
    "                                                            new_column_name='is_holiday', \n",
    "                                                            derive_func=transforms.is_holiday)\n",
    "                                                            ),\n",
    "                (\"create_hour_col\",transforms.DerivedColumnTransformer(column_name='datetime', \n",
    "                                                            new_column_name='hour', \n",
    "                                                            derive_func=transforms.get_hour)\n",
    "                                                            ),\n",
    "                (\"create_mean_temperature\",transforms.DerivedColumnTransformer(column_name=optimal_temperature_column_names, \n",
    "                                                            new_column_name='mean_temp', \n",
    "                                                            derive_func=np.mean, func_kwargs={'axis':1})\n",
    "                                                            ),\n",
    "                \n",
    "                (\"create_temperature_squared\",transforms.DerivedColumnTransformer(column_name='mean_temp', \n",
    "                                                            new_column_name='temp_sq', \n",
    "                                                            derive_func=np.square)\n",
    "                                                            ),\n",
    "                (\"create_temperature_cube\",transforms.DerivedColumnTransformer(column_name='mean_temp', \n",
    "                                                            new_column_name='temp_cube', \n",
    "                                                            derive_func=transforms.exp_value, func_kwargs={'exp':3})\n",
    "                                                            ),\n",
    "\n",
    "            (\n",
    "                \"create_interaction_temp_hour_profile_2\", transforms.MultiColumnTransformer(\n",
    "                    column_names=[\"mean_temp\", \"hour\"],\n",
    "                    new_column_name=\"temp_hour_p2\",\n",
    "                    derive_func=transforms.multiply_columns,\n",
    "                ),\n",
    "            ),\n",
    "            (\n",
    "                \"create_interaction_temp_month\",\n",
    "                transforms.MultiColumnTransformer(\n",
    "                    column_names=[\"mean_temp\", \"month\"],\n",
    "                    new_column_name=\"temp_month\",\n",
    "                    derive_func=transforms.multiply_columns,\n",
    "                ),\n",
    "            ),\n",
    "            (\n",
    "                \"create_interaction_month_hour\",\n",
    "                transforms.MultiColumnTransformer(\n",
    "                    column_names=[\"month\", \"hour\"],\n",
    "                    new_column_name=\"month_hour\",\n",
    "                    derive_func=transforms.multiply_columns,\n",
    "                ),\n",
    "            ),\n",
    "\n",
    "                (\"one_hot_categorical_column\", transforms.ColumsOneHotEncoder(categorical_column_names=categorical_column_names)),\n",
    "                ('drop_columns', transforms.ColumnsRemover(column_names=columns_to_drop)),\n",
    "\n",
    "\n",
    "            ]\n",
    "        )\n",
    "    return pipeline\n",
    "\n",
    "def main(model_name:str, pipeline, n_tuning_trials=1):\n",
    "    logger = logging.getLogger(__name__)\n",
    "    proj_root = utils.get_proj_root()\n",
    "\n",
    "    config = utils.get_config('config/config.ini')\n",
    "\n",
    "    model_output_dir = proj_root.joinpath(config[\"modelling_paths\"][\"model_output\"])\n",
    "    preprocessed_data_path = proj_root.joinpath(config['data_paths']['preprocessed_data'])\n",
    "\n",
    "    label_col_name = 'load'\n",
    "    model_params = config._sections[model_name]\n",
    "    model_class = training.get_model_class(model_name=model_name)\n",
    "    model = model_class(**model_params)\n",
    "\n",
    "\n",
    "\n",
    "    preprocessed_data = training.get_training_data(file_path=preprocessed_data_path)\n",
    "    training_data, testing_data = train_test_split(preprocessed_data, test_size=test_size, shuffle=False)\n",
    "\n",
    "\n",
    "\n",
    "    model_output_path = model_output_dir.joinpath(model_name + \".pkl\")\n",
    "    trainer = training.ModelTrainer(\n",
    "        model_class=model,\n",
    "        transform_pipeline=pipeline,\n",
    "        training_data=training_data,\n",
    "        testing_data=testing_data,\n",
    "        label_col_name=label_col_name,\n",
    "        model_output_path=model_output_path\n",
    "    )\n",
    "\n",
    "    logger.info(\"==============tuning started=============\")\n",
    "    trainer.tune_model(n_trials=n_tuning_trials)\n",
    "    # logger.info('tuning completed')\n",
    "    logger.info(\"==============training started====================\")\n",
    "    model = trainer.train_model(save_model=True)\n",
    "    logger.info(\"==========training completed===============\")\n",
    "    logger.info(\"==========evaluation===============\")\n",
    "    score = trainer.evaluate_model()\n",
    "    print(f\"test score:{score}\")\n",
    "    logger.info(f\"test score:{score}\")\n",
    "    score = trainer.inf_model()\n",
    "    print(f\"test score:{score}\")\n",
    "    logger.info(f\"inf score:{score}\")\n",
    "    logger.info(\"==========evaluation completed===============\")\n",
    "\n",
    "    return model, score\n",
    "\n",
    "model_results = {}\n",
    "\n",
    "for model_name in model_names:\n",
    "\n",
    "    pipeline = make_pipeline()\n",
    "    model, score = main(model_name=model_name, pipeline=pipeline, n_tuning_trials=n_tuning_trials)\n",
    "    model_results[model_name] = model, score\n",
    "\n",
    "experiments[experiment_name] = model_results"
   ]
  },
  {
   "cell_type": "markdown",
   "metadata": {},
   "source": [
    "## Engineer non-linear features"
   ]
  },
  {
   "cell_type": "code",
   "execution_count": 6,
   "metadata": {},
   "outputs": [
    {
     "name": "stderr",
     "output_type": "stream",
     "text": [
      "[I 2024-06-04 14:16:20,306] A new study created in memory with name: no-name-b2b2e2d1-ee59-45e8-9272-c590eeba3b20\n"
     ]
    },
    {
     "name": "stdout",
     "output_type": "stream",
     "text": [
      "['t11', 't14', 't20', 't4', 't12', 't16']\n"
     ]
    },
    {
     "name": "stderr",
     "output_type": "stream",
     "text": [
      "[I 2024-06-04 14:16:20,959] Trial 0 finished with value: -0.10065925545026407 and parameters: {'alpha': 4.542516827118303}. Best is trial 0 with value: -0.10065925545026407.\n"
     ]
    },
    {
     "name": "stdout",
     "output_type": "stream",
     "text": [
      "Trial 0, alpha: 4.542516827118303,  mape: 0.10065925545026407\n"
     ]
    },
    {
     "name": "stderr",
     "output_type": "stream",
     "text": [
      "[I 2024-06-04 14:16:21,637] Trial 1 finished with value: -0.10149328907196975 and parameters: {'alpha': 0.46271080240711493}. Best is trial 0 with value: -0.10065925545026407.\n"
     ]
    },
    {
     "name": "stdout",
     "output_type": "stream",
     "text": [
      "Trial 1, alpha: 0.46271080240711493,  mape: 0.10149328907196975\n"
     ]
    },
    {
     "name": "stderr",
     "output_type": "stream",
     "text": [
      "[I 2024-06-04 14:16:22,357] Trial 2 finished with value: -0.10123621673297652 and parameters: {'alpha': 1.425013715880321}. Best is trial 0 with value: -0.10065925545026407.\n"
     ]
    },
    {
     "name": "stdout",
     "output_type": "stream",
     "text": [
      "Trial 2, alpha: 1.425013715880321,  mape: 0.10123621673297652\n",
      "best score is: -0.10065925545026407\n",
      "test score:0.08102993325593828\n",
      "test score:0.08102993325593828\n"
     ]
    },
    {
     "name": "stderr",
     "output_type": "stream",
     "text": [
      "[I 2024-06-04 14:16:22,684] A new study created in memory with name: no-name-bd04ee3c-80c3-4f9e-986a-3a9efcd67958\n"
     ]
    },
    {
     "name": "stdout",
     "output_type": "stream",
     "text": [
      "['t11', 't14', 't20', 't4', 't12', 't16']\n"
     ]
    },
    {
     "name": "stderr",
     "output_type": "stream",
     "text": [
      "[I 2024-06-04 14:16:26,578] Trial 0 finished with value: -0.1430117586773698 and parameters: {'n_estimators': 142, 'max_depth': 8, 'learning_rate': 0.0064866516912466705, 'min_child_weight': 3, 'subsample': 0.9536418744187981, 'gamma': 0.9092586791355799, 'reg_alpha': 0.052026319716106384, 'reg_lambda': 0.5902154788935684}. Best is trial 0 with value: -0.1430117586773698.\n"
     ]
    },
    {
     "name": "stdout",
     "output_type": "stream",
     "text": [
      "Trial 0, n_estimators: 142, max_depth: 8, learning_rate: 0.0064866516912466705,min_child_weight: 3, subsample: 0.9536418744187981 gamma: 0.9092586791355799, reg_alpha: 0.052026319716106384, reg_lambda: 0.5902154788935684, mape: 0.1430117586773698\n"
     ]
    },
    {
     "name": "stderr",
     "output_type": "stream",
     "text": [
      "[I 2024-06-04 14:16:29,089] Trial 1 finished with value: -0.2137517936373524 and parameters: {'n_estimators': 97, 'max_depth': 6, 'learning_rate': 0.0029571617307418393, 'min_child_weight': 5, 'subsample': 0.8467439110995373, 'gamma': 0.5809999422393645, 'reg_alpha': 0.10071191389315859, 'reg_lambda': 0.6635662850529513}. Best is trial 0 with value: -0.1430117586773698.\n"
     ]
    },
    {
     "name": "stdout",
     "output_type": "stream",
     "text": [
      "Trial 1, n_estimators: 97, max_depth: 6, learning_rate: 0.0029571617307418393,min_child_weight: 5, subsample: 0.8467439110995373 gamma: 0.5809999422393645, reg_alpha: 0.10071191389315859, reg_lambda: 0.6635662850529513, mape: 0.2137517936373524\n"
     ]
    },
    {
     "name": "stderr",
     "output_type": "stream",
     "text": [
      "[I 2024-06-04 14:16:58,337] Trial 2 finished with value: -0.09815940181790546 and parameters: {'n_estimators': 130, 'max_depth': 23, 'learning_rate': 0.04379757271476251, 'min_child_weight': 2, 'subsample': 0.6851588974501897, 'gamma': 0.8131024821293226, 'reg_alpha': 0.654509007046446, 'reg_lambda': 0.8001272854227487}. Best is trial 2 with value: -0.09815940181790546.\n"
     ]
    },
    {
     "name": "stdout",
     "output_type": "stream",
     "text": [
      "Trial 2, n_estimators: 130, max_depth: 23, learning_rate: 0.04379757271476251,min_child_weight: 2, subsample: 0.6851588974501897 gamma: 0.8131024821293226, reg_alpha: 0.654509007046446, reg_lambda: 0.8001272854227487, mape: 0.09815940181790546\n",
      "best score is: -0.09815940181790546\n",
      "test score:0.07563938025546604\n",
      "test score:0.07563938025546604\n"
     ]
    }
   ],
   "source": [
    "\n",
    "experiment_name = 'encode non-linearities'\n",
    "\n",
    "\n",
    "def make_pipeline():\n",
    "\n",
    "    categorical_column_names = ['hour', 'month']\n",
    "    columns_to_drop = ['date', 'hour', 'datetime', 'mean_temp']\n",
    "\n",
    "    temperature_column_names_path = proj_root.joinpath(config['modelling_paths']['temperature_columns'])\n",
    "    optimal_temperature_column_names_path = proj_root.joinpath(config['modelling_paths']['optimal_temperature_columns'])\n",
    "    optimal_temperature_column_names = utils.load_value(optimal_temperature_column_names_path)\n",
    "    # daily_load_profile_path = proj_root.joinpath(config['modelling_paths']['daily_load_profile_feature'])\n",
    "    print(optimal_temperature_column_names)\n",
    "\n",
    "    daily_load_profile_path = proj_root.joinpath(\n",
    "        config[\"modelling_paths\"][\"daily_load_profile_feature\"]\n",
    "    )\n",
    "\n",
    "\n",
    "    pipeline = Pipeline(\n",
    "            steps=[\n",
    "                (\"select_optimal_temperature_columns\", transforms.OptimalTemperatureSelector(\n",
    "                    temperature_column_names_path=temperature_column_names_path,\n",
    "                    optimal_temperature_column_names_path=optimal_temperature_column_names_path)  \n",
    "                ),\n",
    "                (\"create_weekend_col\", transforms.DerivedColumnTransformer(column_name='datetime', \n",
    "                                                            new_column_name='is_weekend', \n",
    "                                                            derive_func=transforms.is_weekend)\n",
    "                                                            ),\n",
    "                (\"create_month_col\", transforms.DerivedColumnTransformer(column_name='datetime', \n",
    "                                                            new_column_name='month', \n",
    "                                                            derive_func=transforms.get_month)\n",
    "                                                            ),\n",
    "                (\"create_holiday_col\",transforms.DerivedColumnTransformer(column_name='datetime', \n",
    "                                                            new_column_name='is_holiday', \n",
    "                                                            derive_func=transforms.is_holiday)\n",
    "                                                            ),\n",
    "                (\"create_hour_col\",transforms.DerivedColumnTransformer(column_name='datetime', \n",
    "                                                            new_column_name='hour', \n",
    "                                                            derive_func=transforms.get_hour)\n",
    "                                                            ),\n",
    "                (\"create_mean_temperature\",transforms.DerivedColumnTransformer(column_name=optimal_temperature_column_names, \n",
    "                                                            new_column_name='mean_temp', \n",
    "                                                            derive_func=np.mean, func_kwargs={'axis':1})\n",
    "                                                            ),\n",
    "                \n",
    "                (\"create_temperature_squared\",transforms.DerivedColumnTransformer(column_name='mean_temp', \n",
    "                                                            new_column_name='temp_sq', \n",
    "                                                            derive_func=np.square)\n",
    "                                                            ),\n",
    "                (\"create_temperature_cube\",transforms.DerivedColumnTransformer(column_name='mean_temp', \n",
    "                                                            new_column_name='temp_cube', \n",
    "                                                            derive_func=transforms.exp_value, func_kwargs={'exp':3})\n",
    "                                                            ),\n",
    "\n",
    "            (\n",
    "                \"create_interaction_temp_hour_profile_2\", transforms.MultiColumnTransformer(\n",
    "                    column_names=[\"mean_temp\", \"hour\"],\n",
    "                    new_column_name=\"temp_hour_p2\",\n",
    "                    derive_func=transforms.multiply_columns,\n",
    "                ),\n",
    "            ),\n",
    "            (\n",
    "                \"create_interaction_temp_month\",\n",
    "                transforms.MultiColumnTransformer(\n",
    "                    column_names=[\"mean_temp\", \"month\"],\n",
    "                    new_column_name=\"temp_month\",\n",
    "                    derive_func=transforms.multiply_columns,\n",
    "                ),\n",
    "            ),\n",
    "            (\n",
    "                \"create_interaction_month_hour\",\n",
    "                transforms.MultiColumnTransformer(\n",
    "                    column_names=[\"month\", \"hour\"],\n",
    "                    new_column_name=\"month_hour\",\n",
    "                    derive_func=transforms.multiply_columns,\n",
    "                ),\n",
    "            ),\n",
    "            (\n",
    "                \"create_non_linear_hour_features\",\n",
    "                transforms.HourlyProfileTransformer(\n",
    "                    datetime_column_name=\"datetime\",\n",
    "                    feature_path=daily_load_profile_path,\n",
    "                ),\n",
    "            ),\n",
    "            (\n",
    "                \"create_interaction_month_hour_profile_1\",\n",
    "                transforms.MultiColumnTransformer(\n",
    "                    column_names=[\"month\", \"profile_1\"],\n",
    "                    new_column_name=\"month_hour_p1\",\n",
    "                    derive_func=transforms.multiply_columns,\n",
    "                ),\n",
    "            ),\n",
    "\n",
    "                (\"one_hot_categorical_column\", transforms.ColumsOneHotEncoder(categorical_column_names=categorical_column_names)),\n",
    "                ('drop_columns', transforms.ColumnsRemover(column_names=columns_to_drop)),\n",
    "\n",
    "\n",
    "            ]\n",
    "        )\n",
    "    return pipeline\n",
    "\n",
    "def main(model_name:str, pipeline, n_tuning_trials=1):\n",
    "    logger = logging.getLogger(__name__)\n",
    "    proj_root = utils.get_proj_root()\n",
    "\n",
    "    config = utils.get_config('config/config.ini')\n",
    "\n",
    "    model_output_dir = proj_root.joinpath(config[\"modelling_paths\"][\"model_output\"])\n",
    "    preprocessed_data_path = proj_root.joinpath(config['data_paths']['preprocessed_data'])\n",
    "\n",
    "    label_col_name = 'load'\n",
    "    model_params = config._sections[model_name]\n",
    "    model_class = training.get_model_class(model_name=model_name)\n",
    "    model = model_class(**model_params)\n",
    "\n",
    "\n",
    "\n",
    "    preprocessed_data = training.get_training_data(file_path=preprocessed_data_path)\n",
    "    training_data, testing_data = train_test_split(preprocessed_data, test_size=test_size, shuffle=False)\n",
    "\n",
    "\n",
    "\n",
    "    model_output_path = model_output_dir.joinpath(model_name + \".pkl\")\n",
    "    trainer = training.ModelTrainer(\n",
    "        model_class=model,\n",
    "        transform_pipeline=pipeline,\n",
    "        training_data=training_data,\n",
    "        testing_data=testing_data,\n",
    "        label_col_name=label_col_name,\n",
    "        model_output_path=model_output_path\n",
    "    )\n",
    "\n",
    "    logger.info(\"==============tuning started=============\")\n",
    "    trainer.tune_model(n_trials=n_tuning_trials)\n",
    "    # logger.info('tuning completed')\n",
    "    logger.info(\"==============training started====================\")\n",
    "    model = trainer.train_model(save_model=True)\n",
    "    logger.info(\"==========training completed===============\")\n",
    "    logger.info(\"==========evaluation===============\")\n",
    "    score = trainer.evaluate_model()\n",
    "    print(f\"test score:{score}\")\n",
    "    logger.info(f\"test score:{score}\")\n",
    "    score = trainer.inf_model()\n",
    "    print(f\"test score:{score}\")\n",
    "    logger.info(f\"inf score:{score}\")\n",
    "    logger.info(\"==========evaluation completed===============\")\n",
    "\n",
    "    return model, score\n",
    "\n",
    "model_results = {}\n",
    "\n",
    "for model_name in model_names:\n",
    "\n",
    "    pipeline = make_pipeline()\n",
    "    model, score = main(model_name=model_name, pipeline=pipeline, n_tuning_trials=n_tuning_trials)\n",
    "    model_results[model_name] = model, score\n",
    "\n",
    "experiments[experiment_name] = model_results"
   ]
  },
  {
   "cell_type": "markdown",
   "metadata": {},
   "source": [
    "## Add trend"
   ]
  },
  {
   "cell_type": "code",
   "execution_count": 7,
   "metadata": {},
   "outputs": [
    {
     "name": "stderr",
     "output_type": "stream",
     "text": [
      "[I 2024-06-04 14:17:07,385] A new study created in memory with name: no-name-73823e53-6a1b-4551-8be5-b16aa4c35dee\n"
     ]
    },
    {
     "name": "stdout",
     "output_type": "stream",
     "text": [
      "['t11', 't14', 't20', 't4', 't12', 't16']\n"
     ]
    },
    {
     "name": "stderr",
     "output_type": "stream",
     "text": [
      "[I 2024-06-04 14:17:08,041] Trial 0 finished with value: -0.14558525013936383 and parameters: {'alpha': 4.665982766261011}. Best is trial 0 with value: -0.14558525013936383.\n"
     ]
    },
    {
     "name": "stdout",
     "output_type": "stream",
     "text": [
      "Trial 0, alpha: 4.665982766261011,  mape: 0.14558525013936383\n"
     ]
    },
    {
     "name": "stderr",
     "output_type": "stream",
     "text": [
      "[I 2024-06-04 14:17:08,700] Trial 1 finished with value: -0.14683383001250663 and parameters: {'alpha': 0.7328549145743286}. Best is trial 0 with value: -0.14558525013936383.\n"
     ]
    },
    {
     "name": "stdout",
     "output_type": "stream",
     "text": [
      "Trial 1, alpha: 0.7328549145743286,  mape: 0.14683383001250663\n"
     ]
    },
    {
     "name": "stderr",
     "output_type": "stream",
     "text": [
      "[I 2024-06-04 14:17:09,503] Trial 2 finished with value: -0.14655483970525343 and parameters: {'alpha': 1.439320447417305}. Best is trial 0 with value: -0.14558525013936383.\n"
     ]
    },
    {
     "name": "stdout",
     "output_type": "stream",
     "text": [
      "Trial 2, alpha: 1.439320447417305,  mape: 0.14655483970525343\n",
      "best score is: -0.14558525013936383\n",
      "test score:0.07346749145723507\n"
     ]
    },
    {
     "name": "stderr",
     "output_type": "stream",
     "text": [
      "[I 2024-06-04 14:17:09,884] A new study created in memory with name: no-name-1a2a1595-efa9-4ccc-b3ac-f5d6efb9f512\n"
     ]
    },
    {
     "name": "stdout",
     "output_type": "stream",
     "text": [
      "test score:0.07346749145723507\n",
      "['t11', 't14', 't20', 't4', 't12', 't16']\n"
     ]
    },
    {
     "name": "stderr",
     "output_type": "stream",
     "text": [
      "[I 2024-06-04 14:17:15,623] Trial 0 finished with value: -0.0945386996247968 and parameters: {'n_estimators': 139, 'max_depth': 11, 'learning_rate': 0.031708789293434674, 'min_child_weight': 9, 'subsample': 0.8247053186919631, 'gamma': 0.9226238059926933, 'reg_alpha': 0.8945619042314296, 'reg_lambda': 0.9169536799858177}. Best is trial 0 with value: -0.0945386996247968.\n"
     ]
    },
    {
     "name": "stdout",
     "output_type": "stream",
     "text": [
      "Trial 0, n_estimators: 139, max_depth: 11, learning_rate: 0.031708789293434674,min_child_weight: 9, subsample: 0.8247053186919631 gamma: 0.9226238059926933, reg_alpha: 0.8945619042314296, reg_lambda: 0.9169536799858177, mape: 0.0945386996247968\n"
     ]
    },
    {
     "name": "stderr",
     "output_type": "stream",
     "text": [
      "[I 2024-06-04 14:17:16,265] Trial 1 finished with value: -0.2604710141202663 and parameters: {'n_estimators': 3, 'max_depth': 15, 'learning_rate': 0.00566741204819782, 'min_child_weight': 8, 'subsample': 0.5576745950328046, 'gamma': 0.618761428700102, 'reg_alpha': 0.44496137587870876, 'reg_lambda': 0.49225465708098837}. Best is trial 0 with value: -0.0945386996247968.\n"
     ]
    },
    {
     "name": "stdout",
     "output_type": "stream",
     "text": [
      "Trial 1, n_estimators: 3, max_depth: 15, learning_rate: 0.00566741204819782,min_child_weight: 8, subsample: 0.5576745950328046 gamma: 0.618761428700102, reg_alpha: 0.44496137587870876, reg_lambda: 0.49225465708098837, mape: 0.2604710141202663\n"
     ]
    },
    {
     "name": "stderr",
     "output_type": "stream",
     "text": [
      "[I 2024-06-04 14:17:24,039] Trial 2 finished with value: -0.1138830586741664 and parameters: {'n_estimators': 49, 'max_depth': 19, 'learning_rate': 0.031084260744232737, 'min_child_weight': 3, 'subsample': 0.7792077043937532, 'gamma': 0.14322979800261615, 'reg_alpha': 0.4683019752422405, 'reg_lambda': 0.2201616162803307}. Best is trial 0 with value: -0.0945386996247968.\n"
     ]
    },
    {
     "name": "stdout",
     "output_type": "stream",
     "text": [
      "Trial 2, n_estimators: 49, max_depth: 19, learning_rate: 0.031084260744232737,min_child_weight: 3, subsample: 0.7792077043937532 gamma: 0.14322979800261615, reg_alpha: 0.4683019752422405, reg_lambda: 0.2201616162803307, mape: 0.1138830586741664\n",
      "best score is: -0.0945386996247968\n",
      "test score:0.05859546070967164\n",
      "test score:0.05859546070967164\n"
     ]
    }
   ],
   "source": [
    "\n",
    "experiment_name = 'add trend'\n",
    "\n",
    "\n",
    "def make_pipeline():\n",
    "\n",
    "    categorical_column_names = ['hour', 'month']\n",
    "    columns_to_drop = ['date', 'hour', 'datetime', 'mean_temp']\n",
    "\n",
    "    temperature_column_names_path = proj_root.joinpath(config['modelling_paths']['temperature_columns'])\n",
    "    optimal_temperature_column_names_path = proj_root.joinpath(config['modelling_paths']['optimal_temperature_columns'])\n",
    "    optimal_temperature_column_names = utils.load_value(optimal_temperature_column_names_path)\n",
    "    # daily_load_profile_path = proj_root.joinpath(config['modelling_paths']['daily_load_profile_feature'])\n",
    "    print(optimal_temperature_column_names)\n",
    "\n",
    "    daily_load_profile_path = proj_root.joinpath(\n",
    "        config[\"modelling_paths\"][\"daily_load_profile_feature\"]\n",
    "    )\n",
    "\n",
    "\n",
    "    pipeline = Pipeline(\n",
    "            steps=[\n",
    "                (\"select_optimal_temperature_columns\", transforms.OptimalTemperatureSelector(\n",
    "                    temperature_column_names_path=temperature_column_names_path,\n",
    "                    optimal_temperature_column_names_path=optimal_temperature_column_names_path)  \n",
    "                ),\n",
    "                (\"create_weekend_col\", transforms.DerivedColumnTransformer(column_name='datetime', \n",
    "                                                            new_column_name='is_weekend', \n",
    "                                                            derive_func=transforms.is_weekend)\n",
    "                                                            ),\n",
    "                (\"create_month_col\", transforms.DerivedColumnTransformer(column_name='datetime', \n",
    "                                                            new_column_name='month', \n",
    "                                                            derive_func=transforms.get_month)\n",
    "                                                            ),\n",
    "                (\"create_holiday_col\",transforms.DerivedColumnTransformer(column_name='datetime', \n",
    "                                                            new_column_name='is_holiday', \n",
    "                                                            derive_func=transforms.is_holiday)\n",
    "                                                            ),\n",
    "                (\"create_hour_col\",transforms.DerivedColumnTransformer(column_name='datetime', \n",
    "                                                            new_column_name='hour', \n",
    "                                                            derive_func=transforms.get_hour)\n",
    "                                                            ),\n",
    "                (\"create_mean_temperature\",transforms.DerivedColumnTransformer(column_name=optimal_temperature_column_names, \n",
    "                                                            new_column_name='mean_temp', \n",
    "                                                            derive_func=np.mean, func_kwargs={'axis':1})\n",
    "                                                            ),\n",
    "                \n",
    "                (\"create_temperature_squared\",transforms.DerivedColumnTransformer(column_name='mean_temp', \n",
    "                                                            new_column_name='temp_sq', \n",
    "                                                            derive_func=np.square)\n",
    "                                                            ),\n",
    "                (\"create_temperature_cube\",transforms.DerivedColumnTransformer(column_name='mean_temp', \n",
    "                                                            new_column_name='temp_cube', \n",
    "                                                            derive_func=transforms.exp_value, func_kwargs={'exp':3})\n",
    "                                                            ),\n",
    "\n",
    "            (\n",
    "                \"create_interaction_temp_hour_profile_2\", transforms.MultiColumnTransformer(\n",
    "                    column_names=[\"mean_temp\", \"hour\"],\n",
    "                    new_column_name=\"temp_hour_p2\",\n",
    "                    derive_func=transforms.multiply_columns,\n",
    "                ),\n",
    "            ),\n",
    "            (\n",
    "                \"create_interaction_temp_month\",\n",
    "                transforms.MultiColumnTransformer(\n",
    "                    column_names=[\"mean_temp\", \"month\"],\n",
    "                    new_column_name=\"temp_month\",\n",
    "                    derive_func=transforms.multiply_columns,\n",
    "                ),\n",
    "            ),\n",
    "            (\n",
    "                \"create_interaction_month_hour\",\n",
    "                transforms.MultiColumnTransformer(\n",
    "                    column_names=[\"month\", \"hour\"],\n",
    "                    new_column_name=\"month_hour\",\n",
    "                    derive_func=transforms.multiply_columns,\n",
    "                ),\n",
    "            ),\n",
    "            (\n",
    "                \"create_non_linear_hour_features\",\n",
    "                transforms.HourlyProfileTransformer(\n",
    "                    datetime_column_name=\"datetime\",\n",
    "                    feature_path=daily_load_profile_path,\n",
    "                ),\n",
    "            ),\n",
    "            (\n",
    "                \"create_interaction_month_hour_profile_1\",\n",
    "                transforms.MultiColumnTransformer(\n",
    "                    column_names=[\"month\", \"profile_1\"],\n",
    "                    new_column_name=\"month_hour_p1\",\n",
    "                    derive_func=transforms.multiply_columns,\n",
    "                ),\n",
    "            ),\n",
    "            (\n",
    "                \"create_trend\",\n",
    "                transforms.DerivedColumnTransformer(\n",
    "                    column_name=\"datetime\",\n",
    "                    new_column_name=\"trend\",\n",
    "                    derive_func=transforms.trend,\n",
    "                ),\n",
    "            ),\n",
    "            # (\"create_month_season\",transforms.DerivedColumnTransformer(column_name='month', \n",
    "            #                                                 new_column_name='month_season', \n",
    "            #                                                 derive_func=transforms.season_encode)\n",
    "            #                                                 ),\n",
    "            # (\"create_interaction_temp_month_season\",transforms.MultiColumnTransformer(column_names=['mean_temp', 'month_season'], \n",
    "            #                                                 new_column_name='temp_month', \n",
    "            #                                                 derive_func=transforms.multiply_columns)\n",
    "            #                                                 ),\n",
    "                (\"one_hot_categorical_column\", transforms.ColumsOneHotEncoder(categorical_column_names=categorical_column_names)),\n",
    "                ('drop_columns', transforms.ColumnsRemover(column_names=columns_to_drop)),\n",
    "\n",
    "\n",
    "            ]\n",
    "        )\n",
    "    return pipeline\n",
    "\n",
    "def main(model_name:str, pipeline, n_tuning_trials=1):\n",
    "    logger = logging.getLogger(__name__)\n",
    "    proj_root = utils.get_proj_root()\n",
    "\n",
    "    config = utils.get_config('config/config.ini')\n",
    "\n",
    "    model_output_dir = proj_root.joinpath(config[\"modelling_paths\"][\"model_output\"])\n",
    "    preprocessed_data_path = proj_root.joinpath(config['data_paths']['preprocessed_data'])\n",
    "\n",
    "    label_col_name = 'load'\n",
    "    model_params = config._sections[model_name]\n",
    "    model_class = training.get_model_class(model_name=model_name)\n",
    "    model = model_class(**model_params)\n",
    "\n",
    "\n",
    "\n",
    "    preprocessed_data = training.get_training_data(file_path=preprocessed_data_path)\n",
    "    training_data, testing_data = train_test_split(preprocessed_data, test_size=test_size, shuffle=False)\n",
    "\n",
    "\n",
    "\n",
    "    model_output_path = model_output_dir.joinpath(model_name + \".pkl\")\n",
    "    trainer = training.ModelTrainer(\n",
    "        model_class=model,\n",
    "        transform_pipeline=pipeline,\n",
    "        training_data=training_data,\n",
    "        testing_data=testing_data,\n",
    "        label_col_name=label_col_name,\n",
    "        model_output_path=model_output_path\n",
    "    )\n",
    "\n",
    "    logger.info(\"==============tuning started=============\")\n",
    "    trainer.tune_model(n_trials=n_tuning_trials)\n",
    "    # logger.info('tuning completed')\n",
    "    logger.info(\"==============training started====================\")\n",
    "    model = trainer.train_model(save_model=True)\n",
    "    logger.info(\"==========training completed===============\")\n",
    "    logger.info(\"==========evaluation===============\")\n",
    "    score = trainer.evaluate_model()\n",
    "    print(f\"test score:{score}\")\n",
    "    logger.info(f\"test score:{score}\")\n",
    "    score = trainer.inf_model()\n",
    "    print(f\"test score:{score}\")\n",
    "    logger.info(f\"inf score:{score}\")\n",
    "    logger.info(\"==========evaluation completed===============\")\n",
    "\n",
    "    return model, score\n",
    "\n",
    "model_results = {}\n",
    "\n",
    "for model_name in model_names:\n",
    "\n",
    "    pipeline = make_pipeline()\n",
    "    model, score = main(model_name=model_name, pipeline=pipeline, n_tuning_trials=n_tuning_trials)\n",
    "    model_results[model_name] = model, score\n",
    "\n",
    "experiments[experiment_name] = model_results"
   ]
  },
  {
   "cell_type": "code",
   "execution_count": 8,
   "metadata": {},
   "outputs": [],
   "source": [
    "exp_s = list(experiments.keys())\n",
    "models_scores = {}\n",
    "for model_name in model_names:\n",
    "    models_scores[model_name] = []\n",
    "    for exp in exp_s:\n",
    "        exp_model_scores = experiments[exp]\n",
    "        models_scores[model_name].append(exp_model_scores[model_name])\n",
    "\n",
    "# models_scores"
   ]
  },
  {
   "cell_type": "code",
   "execution_count": 10,
   "metadata": {},
   "outputs": [
    {
     "data": {
      "image/png": "[encoded data removed]",
      "text/plain": [
       "<Figure size 640x480 with 1 Axes>"
      ]
     },
     "metadata": {},
     "output_type": "display_data"
    }
   ],
   "source": [
    "import matplotlib.pyplot as plt\n",
    "import numpy as np\n",
    "\n",
    "species = exp_s\n",
    "penguin_means = models_scores\n",
    "\n",
    "x = np.arange(len(species))  # the label locations\n",
    "width = 0.25  # the width of the bars\n",
    "multiplier = 0\n",
    "\n",
    "fig, ax = plt.subplots(layout='constrained')\n",
    "\n",
    "for model_name, model_scores in penguin_means.items():\n",
    "    scores = [model_score[1] for model_score in model_scores]\n",
    "    offset = width * multiplier\n",
    "    rects = ax.bar(x + offset, scores, width, label=model_name)\n",
    "    # ax.bar_label(rects, padding=3)\n",
    "    multiplier += 1\n",
    "\n",
    "# Add some text for labels, title and custom x-axis tick labels, etc.\n",
    "ax.set_ylabel('MAPE score')\n",
    "ax.set_title('Model Results with Features')\n",
    "ax.set_xticks(x + width, species)\n",
    "ax.legend(loc='upper left', ncols=3)\n",
    "# ax.set_ylim(0, 250)\n",
    "ax.tick_params(axis='x', labelrotation=90)\n",
    "plt.show()\n",
    "\n",
    "save_path = proj_root.joinpath('reports/feature_combinations.png')\n",
    "fig.savefig(fname=save_path)"
   ]
  },
  {
   "cell_type": "code",
   "execution_count": 11,
   "metadata": {},
   "outputs": [
    {
     "data": {
      "text/plain": [
       "{'linear_model': (Pipeline(steps=[('select_optimal_temperature_columns',\n",
       "                   OptimalTemperatureSelector(optimal_temperature_column_names_path=PosixPath('/home/aroge/projects/electricity-demand-forecast/models/features/optimal_temperature_columns.pkl'),\n",
       "                                              temperature_column_names_path=PosixPath('/home/aroge/projects/electricity-demand-forecast/models/features/temperature_col...\n",
       "                  ('create_trend',\n",
       "                   DerivedColumnTransformer(column_name='datetime',\n",
       "                                            derive_func=<function trend at 0x7f466a076440>,\n",
       "                                            new_column_name='trend')),\n",
       "                  ('one_hot_categorical_column',\n",
       "                   ColumsOneHotEncoder(categorical_column_names=['hour',\n",
       "                                                                 'month'])),\n",
       "                  ('drop_columns',\n",
       "                   ColumnsRemover(column_names=['date', 'hour', 'datetime',\n",
       "                                                'mean_temp'])),\n",
       "                  ['model', Ridge(alpha=4.665982766261011)]]),\n",
       "  0.07346749145723507),\n",
       " 'xgboost': (Pipeline(steps=[('select_optimal_temperature_columns',\n",
       "                   OptimalTemperatureSelector(optimal_temperature_column_names_path=PosixPath('/home/aroge/projects/electricity-demand-forecast/models/features/optimal_temperature_columns.pkl'),\n",
       "                                              temperature_column_names_path=PosixPath('/home/aroge/projects/electricity-demand-forecast/models/features/temperature_col...\n",
       "                                grow_policy=None, importance_type=None,\n",
       "                                interaction_constraints=None,\n",
       "                                learning_rate=0.031708789293434674, max_bin=None,\n",
       "                                max_cat_threshold=None, max_cat_to_onehot=None,\n",
       "                                max_delta_step=None, max_depth=11,\n",
       "                                max_leaves=None, min_child_weight=9, missing=nan,\n",
       "                                monotone_constraints=None, multi_strategy=None,\n",
       "                                n_estimators=139, n_jobs=-1,\n",
       "                                num_parallel_tree=None, random_state=None, ...)]]),\n",
       "  0.05859546070967164)}"
      ]
     },
     "execution_count": 11,
     "metadata": {},
     "output_type": "execute_result"
    }
   ],
   "source": [
    "models_best = {}\n",
    "for model_name in model_names:\n",
    "    model_scores = models_scores[model_name]\n",
    "    scores = [model_score[1] for model_score in model_scores]\n",
    "    models = [model_score[0] for model_score in model_scores]\n",
    "    best_score = np.min(scores)\n",
    "    best_model = models[np.argmin(scores)]\n",
    "    models_best[model_name] = (best_model, best_score)\n",
    "models_best"
   ]
  },
  {
   "cell_type": "markdown",
   "metadata": {},
   "source": [
    "## Evaluation\n",
    "\n",
    "\n",
    "\n"
   ]
  },
  {
   "cell_type": "code",
   "execution_count": 14,
   "metadata": {},
   "outputs": [
    {
     "name": "stdout",
     "output_type": "stream",
     "text": [
      "transform\n"
     ]
    },
    {
     "data": {
      "image/png": "[encoded data removed]",
      "text/plain": [
       "<Figure size 640x480 with 1 Axes>"
      ]
     },
     "metadata": {},
     "output_type": "display_data"
    }
   ],
   "source": [
    "import pandas as pd\n",
    "from src.preprocessing import preprocessing as prep\n",
    "from src.inference import inference as inf\n",
    "from src import utils\n",
    "\n",
    "proj_root = utils.get_proj_root()\n",
    "\n",
    "config = utils.get_config('config/config.ini')\n",
    "\n",
    "\n",
    "\n",
    "raw_temperature_data_path = utils.get_full_path(config['data_paths']['raw_temp_data'])\n",
    "raw_temperature_data = pd.read_csv(raw_temperature_data_path, parse_dates=[0])\n",
    "preprocessed_temperature_data = prep.TempDataPreprocessor().fit(raw_temperature_data).transform(raw_temperature_data)\n",
    "inf_year = 2008\n",
    "preprocessed_temperature_data = preprocessed_temperature_data[preprocessed_temperature_data.datetime.dt.year >= inf_year]\n",
    "preprocessed_temperature_data = preprocessed_temperature_data.iloc[1:, :]  # includes first date not in eval\n",
    "future_dates = preprocessed_temperature_data.datetime #+ p.to_timedelta(preprocessed_temperature_data.datetime.dt.hour, unit='h')\n",
    "\n",
    "\n",
    "\n",
    "eval_data_path = config['data_paths']['evaluation_data']\n",
    "actual_load = pd.read_csv(proj_root.joinpath(eval_data_path), parse_dates=[0])\n",
    "actual_load = prep.LoadDataPreprocessor().fit(actual_load).transform(actual_load)\n",
    "\n",
    "fig, ax = plt.subplots()\n",
    "n_pts = 200\n",
    "start = 0\n",
    "actual_load[start:n_pts+start].plot(x='datetime', y='load', ax=ax, alpha=0.5, label=\"actual_load\")\n",
    "for i, model_name in enumerate(model_names):\n",
    "    model, score = models_best[model_name]\n",
    "    # model = inf.load_model(model_name=model_name)\n",
    "    predicted_load = model.predict(preprocessed_temperature_data)\n",
    "\n",
    "    prediction_data = pd.DataFrame({'datetime':future_dates, 'predicted_load':predicted_load})\n",
    "\n",
    "    \n",
    "    prediction_data[start:n_pts+start].plot(x='datetime', y='predicted_load', ls='-', ax=ax, alpha=1, label=f'{model_name} (score:{score:.3f})')\n",
    "ax.set_ylabel('load [kWh]')\n",
    "ax.set_title('Test Results')\n",
    "save_path = proj_root.joinpath('reports/eval.png')\n",
    "fig.savefig(fname=save_path)"
   ]
  }
 ],
 "metadata": {
  "kernelspec": {
   "display_name": ".venv",
   "language": "python",
   "name": "python3"
  },
  "language_info": {
   "codemirror_mode": {
    "name": "ipython",
    "version": 3
   },
   "file_extension": ".py",
   "mimetype": "text/x-python",
   "name": "python",
   "nbconvert_exporter": "python",
   "pygments_lexer": "ipython3",
   "version": "3.10.13"
  }
 },
 "nbformat": 4,
 "nbformat_minor": 2
}
