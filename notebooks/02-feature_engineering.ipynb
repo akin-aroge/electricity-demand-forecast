{
 "cells": [
  {
   "cell_type": "markdown",
   "metadata": {},
   "source": [
    "# Feature Engineering"
   ]
  },
  {
   "cell_type": "code",
   "execution_count": 195,
   "metadata": {},
   "outputs": [
    {
     "name": "stdout",
     "output_type": "stream",
     "text": [
      "The autoreload extension is already loaded. To reload it, use:\n",
      "  %reload_ext autoreload\n"
     ]
    }
   ],
   "source": [
    "from src.modelling import training\n",
    "from sklearn.mixture import GaussianMixture as GM\n",
    "from sklearn.decomposition import PCA\n",
    "import matplotlib.pyplot as plt\n",
    "import numpy as np\n",
    "from src import utils\n",
    "\n",
    "%load_ext autoreload\n",
    "%autoreload 2"
   ]
  },
  {
   "cell_type": "code",
   "execution_count": 196,
   "metadata": {},
   "outputs": [],
   "source": [
    "project_root = utils.get_proj_root()\n",
    "config = utils.get_config('config/config.ini')"
   ]
  },
  {
   "cell_type": "code",
   "execution_count": null,
   "metadata": {},
   "outputs": [],
   "source": []
  },
  {
   "cell_type": "markdown",
   "metadata": {},
   "source": [
    "## Hourly temprature profiles"
   ]
  },
  {
   "cell_type": "code",
   "execution_count": 198,
   "metadata": {},
   "outputs": [
    {
     "name": "stdout",
     "output_type": "stream",
     "text": [
      "1095 1095\n"
     ]
    }
   ],
   "source": [
    "preprocessed_data = training.get_training_data()\n",
    "load_data  = preprocessed_data[['datetime','load']].copy()\n",
    "load_data['hour'] = preprocessed_data['datetime'].dt.hour.values\n",
    "load_data['date'] = preprocessed_data['datetime'].dt.date.values\n",
    "# print(load_data.head())\n",
    "\n",
    "load_data_pivoted = load_data.pivot_table(values='load', index='date', columns='hour')\n",
    "# print(load_data_pivoted.isnull().sum())\n",
    "X = load_data_pivoted.loc[:, 3:].values  # from 3 because some hours are null for hour 2\n",
    "\n",
    "n_components=2\n",
    "X_pca = PCA(n_components=n_components).fit_transform(X)\n",
    "\n",
    "\n",
    "gmm = GM(n_components=n_components, covariance_type='full', random_state=0)\n",
    "\n",
    "gmm.fit(X_pca)\n",
    "cluster_label = gmm.predict(X_pca)\n",
    "\n",
    "print(len(load_data_pivoted), len(cluster_label))\n",
    "load_data_pivoted['cluster'] = cluster_label\n",
    "# print(load_data_pivoted.head())\n",
    "temp_df = load_data.join(load_data_pivoted['cluster'], on='date')\n",
    "# print(temp_df.head())\n",
    "temp_df = temp_df.groupby(['cluster', temp_df.datetime.dt.time]).median(numeric_only=True)\n",
    "\n",
    "\n",
    "def normalize(x:np.array):\n",
    "\n",
    "    res = (x - x.mean()) / x.std()\n",
    "    return res\n",
    "\n",
    "cluster_0_profile = temp_df.loc[0]['load'].values \n",
    "cluster_1_profile = temp_df.loc[1]['load'].values\n",
    "# print(temp_df)\n",
    "# plt.plot(cluster_1_profile)\n",
    "\n",
    "daily_load_profile_feature = {\n",
    "    'profile_1':dict(zip(temp_df.loc[0]['hour'].values.astype(int), normalize(temp_df.loc[0]['load'].values))),\n",
    "    'profile_2':dict(zip(temp_df.loc[1]['hour'].values.astype(int), normalize(temp_df.loc[1]['load'].values)))\n",
    "}\n",
    "\n",
    "file_path = project_root.joinpath(config['modelling_paths']['daily_load_profile_feature'])\n",
    "utils.save_value(daily_load_profile_feature, fname=file_path)\n"
   ]
  }
 ],
 "metadata": {
  "kernelspec": {
   "display_name": ".venv",
   "language": "python",
   "name": "python3"
  },
  "language_info": {
   "codemirror_mode": {
    "name": "ipython",
    "version": 3
   },
   "file_extension": ".py",
   "mimetype": "text/x-python",
   "name": "python",
   "nbconvert_exporter": "python",
   "pygments_lexer": "ipython3",
   "version": "3.10.13"
  }
 },
 "nbformat": 4,
 "nbformat_minor": 2
}
